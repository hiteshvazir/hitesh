{
 "cells": [
  {
   "cell_type": "code",
   "execution_count": 55,
   "metadata": {},
   "outputs": [],
   "source": [
    "import numpy as np\n",
    "import pandas as pd\n",
    "import matplotlib.pyplot as plt\n",
    "import warnings\n",
    "warnings.filterwarnings(\"ignore\")\n",
    "pd.set_option(\"display.max_columns\",None)"
   ]
  },
  {
   "cell_type": "code",
   "execution_count": 56,
   "metadata": {},
   "outputs": [
    {
     "data": {
      "text/html": [
       "<div>\n",
       "<style scoped>\n",
       "    .dataframe tbody tr th:only-of-type {\n",
       "        vertical-align: middle;\n",
       "    }\n",
       "\n",
       "    .dataframe tbody tr th {\n",
       "        vertical-align: top;\n",
       "    }\n",
       "\n",
       "    .dataframe thead th {\n",
       "        text-align: right;\n",
       "    }\n",
       "</style>\n",
       "<table border=\"1\" class=\"dataframe\">\n",
       "  <thead>\n",
       "    <tr style=\"text-align: right;\">\n",
       "      <th></th>\n",
       "      <th>Day</th>\n",
       "      <th>Cloud_Condition</th>\n",
       "      <th>Rain_OR_SNOW</th>\n",
       "      <th>Temperature (C)</th>\n",
       "      <th>Apparent Temperature (C)</th>\n",
       "      <th>Humidity</th>\n",
       "      <th>Wind Speed (km/h)</th>\n",
       "      <th>Wind Bearing (degrees)</th>\n",
       "      <th>Visibility (km)</th>\n",
       "      <th>Pressure (millibars)</th>\n",
       "      <th>Condensation</th>\n",
       "      <th>Solar irradiance intensity</th>\n",
       "    </tr>\n",
       "  </thead>\n",
       "  <tbody>\n",
       "    <tr>\n",
       "      <th>0</th>\n",
       "      <td>1</td>\n",
       "      <td>Partly Cloudy</td>\n",
       "      <td>rain</td>\n",
       "      <td>-13</td>\n",
       "      <td>-19.0</td>\n",
       "      <td>0.134364</td>\n",
       "      <td>17.0</td>\n",
       "      <td>68.0</td>\n",
       "      <td>4.0</td>\n",
       "      <td>1008.0</td>\n",
       "      <td>Frost</td>\n",
       "      <td>1068</td>\n",
       "    </tr>\n",
       "    <tr>\n",
       "      <th>1</th>\n",
       "      <td>2</td>\n",
       "      <td>Partly Cloudy</td>\n",
       "      <td>rain</td>\n",
       "      <td>15</td>\n",
       "      <td>5.0</td>\n",
       "      <td>0.847434</td>\n",
       "      <td>8.0</td>\n",
       "      <td>291.0</td>\n",
       "      <td>2.0</td>\n",
       "      <td>1036.0</td>\n",
       "      <td>Frost</td>\n",
       "      <td>1291</td>\n",
       "    </tr>\n",
       "    <tr>\n",
       "      <th>2</th>\n",
       "      <td>3</td>\n",
       "      <td>Partly Cloudy</td>\n",
       "      <td>rain</td>\n",
       "      <td>33</td>\n",
       "      <td>-12.0</td>\n",
       "      <td>0.763775</td>\n",
       "      <td>32.0</td>\n",
       "      <td>32.0</td>\n",
       "      <td>8.0</td>\n",
       "      <td>1004.0</td>\n",
       "      <td>Dry</td>\n",
       "      <td>1433</td>\n",
       "    </tr>\n",
       "    <tr>\n",
       "      <th>3</th>\n",
       "      <td>4</td>\n",
       "      <td>Partly Cloudy</td>\n",
       "      <td>snow</td>\n",
       "      <td>30</td>\n",
       "      <td>36.0</td>\n",
       "      <td>0.255069</td>\n",
       "      <td>15.0</td>\n",
       "      <td>130.0</td>\n",
       "      <td>3.0</td>\n",
       "      <td>1016.0</td>\n",
       "      <td>Dry</td>\n",
       "      <td>1410</td>\n",
       "    </tr>\n",
       "    <tr>\n",
       "      <th>4</th>\n",
       "      <td>5</td>\n",
       "      <td>Partly Cloudy</td>\n",
       "      <td>snow</td>\n",
       "      <td>27</td>\n",
       "      <td>30.0</td>\n",
       "      <td>0.495435</td>\n",
       "      <td>63.0</td>\n",
       "      <td>60.0</td>\n",
       "      <td>15.0</td>\n",
       "      <td>1007.0</td>\n",
       "      <td>Fog</td>\n",
       "      <td>1391</td>\n",
       "    </tr>\n",
       "  </tbody>\n",
       "</table>\n",
       "</div>"
      ],
      "text/plain": [
       "   Day Cloud_Condition Rain_OR_SNOW Temperature (C)  Apparent Temperature (C)  \\\n",
       "0    1   Partly Cloudy         rain             -13                     -19.0   \n",
       "1    2   Partly Cloudy         rain              15                       5.0   \n",
       "2    3   Partly Cloudy         rain              33                     -12.0   \n",
       "3    4   Partly Cloudy         snow              30                      36.0   \n",
       "4    5   Partly Cloudy         snow              27                      30.0   \n",
       "\n",
       "   Humidity  Wind Speed (km/h)  Wind Bearing (degrees)  Visibility (km)  \\\n",
       "0  0.134364               17.0                    68.0              4.0   \n",
       "1  0.847434                8.0                   291.0              2.0   \n",
       "2  0.763775               32.0                    32.0              8.0   \n",
       "3  0.255069               15.0                   130.0              3.0   \n",
       "4  0.495435               63.0                    60.0             15.0   \n",
       "\n",
       "   Pressure (millibars) Condensation  Solar irradiance intensity  \n",
       "0                1008.0        Frost                        1068  \n",
       "1                1036.0        Frost                        1291  \n",
       "2                1004.0          Dry                        1433  \n",
       "3                1016.0          Dry                        1410  \n",
       "4                1007.0          Fog                        1391  "
      ]
     },
     "execution_count": 56,
     "metadata": {},
     "output_type": "execute_result"
    }
   ],
   "source": [
    "dataset=pd.read_csv(\"train_CloudCondition.csv\",low_memory=False)\n",
    "dataset.head()"
   ]
  },
  {
   "cell_type": "code",
   "execution_count": 57,
   "metadata": {},
   "outputs": [
    {
     "data": {
      "text/plain": [
       "(71428, 12)"
      ]
     },
     "execution_count": 57,
     "metadata": {},
     "output_type": "execute_result"
    }
   ],
   "source": [
    "dataset.shape"
   ]
  },
  {
   "cell_type": "code",
   "execution_count": 58,
   "metadata": {},
   "outputs": [
    {
     "data": {
      "text/html": [
       "<div>\n",
       "<style scoped>\n",
       "    .dataframe tbody tr th:only-of-type {\n",
       "        vertical-align: middle;\n",
       "    }\n",
       "\n",
       "    .dataframe tbody tr th {\n",
       "        vertical-align: top;\n",
       "    }\n",
       "\n",
       "    .dataframe thead th {\n",
       "        text-align: right;\n",
       "    }\n",
       "</style>\n",
       "<table border=\"1\" class=\"dataframe\">\n",
       "  <thead>\n",
       "    <tr style=\"text-align: right;\">\n",
       "      <th></th>\n",
       "      <th>Day</th>\n",
       "      <th>Cloud_Condition</th>\n",
       "      <th>Rain_OR_SNOW</th>\n",
       "      <th>Temperature (C)</th>\n",
       "      <th>Apparent Temperature (C)</th>\n",
       "      <th>Humidity</th>\n",
       "      <th>Wind Speed (km/h)</th>\n",
       "      <th>Wind Bearing (degrees)</th>\n",
       "      <th>Visibility (km)</th>\n",
       "      <th>Pressure (millibars)</th>\n",
       "      <th>Condensation</th>\n",
       "      <th>Solar irradiance intensity</th>\n",
       "    </tr>\n",
       "  </thead>\n",
       "  <tbody>\n",
       "    <tr>\n",
       "      <th>0</th>\n",
       "      <td>1</td>\n",
       "      <td>Partly Cloudy</td>\n",
       "      <td>rain</td>\n",
       "      <td>-13</td>\n",
       "      <td>-19.0</td>\n",
       "      <td>0.134364</td>\n",
       "      <td>17.0</td>\n",
       "      <td>68.0</td>\n",
       "      <td>4.0</td>\n",
       "      <td>1008.0</td>\n",
       "      <td>Frost</td>\n",
       "      <td>1068</td>\n",
       "    </tr>\n",
       "    <tr>\n",
       "      <th>1</th>\n",
       "      <td>2</td>\n",
       "      <td>Partly Cloudy</td>\n",
       "      <td>rain</td>\n",
       "      <td>15</td>\n",
       "      <td>5.0</td>\n",
       "      <td>0.847434</td>\n",
       "      <td>8.0</td>\n",
       "      <td>291.0</td>\n",
       "      <td>2.0</td>\n",
       "      <td>1036.0</td>\n",
       "      <td>Frost</td>\n",
       "      <td>1291</td>\n",
       "    </tr>\n",
       "    <tr>\n",
       "      <th>2</th>\n",
       "      <td>3</td>\n",
       "      <td>Partly Cloudy</td>\n",
       "      <td>rain</td>\n",
       "      <td>33</td>\n",
       "      <td>-12.0</td>\n",
       "      <td>0.763775</td>\n",
       "      <td>32.0</td>\n",
       "      <td>32.0</td>\n",
       "      <td>8.0</td>\n",
       "      <td>1004.0</td>\n",
       "      <td>Dry</td>\n",
       "      <td>1433</td>\n",
       "    </tr>\n",
       "    <tr>\n",
       "      <th>3</th>\n",
       "      <td>4</td>\n",
       "      <td>Partly Cloudy</td>\n",
       "      <td>snow</td>\n",
       "      <td>30</td>\n",
       "      <td>36.0</td>\n",
       "      <td>0.255069</td>\n",
       "      <td>15.0</td>\n",
       "      <td>130.0</td>\n",
       "      <td>3.0</td>\n",
       "      <td>1016.0</td>\n",
       "      <td>Dry</td>\n",
       "      <td>1410</td>\n",
       "    </tr>\n",
       "    <tr>\n",
       "      <th>4</th>\n",
       "      <td>5</td>\n",
       "      <td>Partly Cloudy</td>\n",
       "      <td>snow</td>\n",
       "      <td>27</td>\n",
       "      <td>30.0</td>\n",
       "      <td>0.495435</td>\n",
       "      <td>63.0</td>\n",
       "      <td>60.0</td>\n",
       "      <td>15.0</td>\n",
       "      <td>1007.0</td>\n",
       "      <td>Fog</td>\n",
       "      <td>1391</td>\n",
       "    </tr>\n",
       "  </tbody>\n",
       "</table>\n",
       "</div>"
      ],
      "text/plain": [
       "   Day Cloud_Condition Rain_OR_SNOW Temperature (C)  Apparent Temperature (C)  \\\n",
       "0    1   Partly Cloudy         rain             -13                     -19.0   \n",
       "1    2   Partly Cloudy         rain              15                       5.0   \n",
       "2    3   Partly Cloudy         rain              33                     -12.0   \n",
       "3    4   Partly Cloudy         snow              30                      36.0   \n",
       "4    5   Partly Cloudy         snow              27                      30.0   \n",
       "\n",
       "   Humidity  Wind Speed (km/h)  Wind Bearing (degrees)  Visibility (km)  \\\n",
       "0  0.134364               17.0                    68.0              4.0   \n",
       "1  0.847434                8.0                   291.0              2.0   \n",
       "2  0.763775               32.0                    32.0              8.0   \n",
       "3  0.255069               15.0                   130.0              3.0   \n",
       "4  0.495435               63.0                    60.0             15.0   \n",
       "\n",
       "   Pressure (millibars) Condensation  Solar irradiance intensity  \n",
       "0                1008.0        Frost                        1068  \n",
       "1                1036.0        Frost                        1291  \n",
       "2                1004.0          Dry                        1433  \n",
       "3                1016.0          Dry                        1410  \n",
       "4                1007.0          Fog                        1391  "
      ]
     },
     "execution_count": 58,
     "metadata": {},
     "output_type": "execute_result"
    }
   ],
   "source": [
    "dataset.head()"
   ]
  },
  {
   "cell_type": "code",
   "execution_count": 59,
   "metadata": {},
   "outputs": [],
   "source": [
    "#crearting a copy of data frame\n",
    "training_data=pd.DataFrame.copy(dataset)"
   ]
  },
  {
   "cell_type": "code",
   "execution_count": 60,
   "metadata": {},
   "outputs": [],
   "source": [
    "training_data=training_data.drop([\"Condensation\",\"Solar irradiance intensity\"],axis=1)"
   ]
  },
  {
   "cell_type": "code",
   "execution_count": 61,
   "metadata": {},
   "outputs": [
    {
     "data": {
      "text/plain": [
       "(71428, 10)"
      ]
     },
     "execution_count": 61,
     "metadata": {},
     "output_type": "execute_result"
    }
   ],
   "source": [
    "training_data.shape"
   ]
  },
  {
   "cell_type": "code",
   "execution_count": 62,
   "metadata": {},
   "outputs": [
    {
     "name": "stdout",
     "output_type": "stream",
     "text": [
      "{'Day': array([    1,     2,     3, ..., 79998, 79999, 80000], dtype=int64)}\n",
      "{'Cloud_Condition': array(['Partly Cloudy', 'Light Rain', 'Breezy and Dry', 'Overcast',\n",
      "       'Foggy', 'Breezy and Mostly Cloudy', 'Clear',\n",
      "       'Breezy and Partly Cloudy', 'Breezy and Overcast',\n",
      "       'Humid and Mostly Cloudy', 'Mostly Cloudy',\n",
      "       'Humid and Partly Cloudy', 'Windy and Foggy', 'Windy and Overcast',\n",
      "       'Breezy and Foggy', 'Windy and Partly Cloudy', 'Breezy',\n",
      "       'Dry and Partly Cloudy', 'Windy and Mostly Cloudy',\n",
      "       'Dangerously Windy and Partly Cloudy', 'Dry', 'Windy',\n",
      "       'Humid and Overcast', 'Drizzle', 'Windy and Dry',\n",
      "       'Dry and Mostly Cloudy'], dtype=object)}\n",
      "{'Rain_OR_SNOW': array(['rain', 'snow', nan], dtype=object)}\n",
      "{'Temperature (C)': array(['-13', '15', '33', '30', '27', '-17', '-5', '-14', '10', '7', '9',\n",
      "       '20', '3', '29', '-8', '-15', '-20', '36', '32', '6', '17', '28',\n",
      "       '-21', '23', '-4', '25', '-7', '16', '39', '-1', '13', '35', '22',\n",
      "       '12', '14', '1', '8', '-3', '38', '5', '37', '-10', '19', '34',\n",
      "       '26', '0', '24', '11', '21', '-9', '-2', '4', '-19', '-6', '2',\n",
      "       '-16', '-11', '18', '31', '-18', '-12', nan, '-'], dtype=object)}\n",
      "{'Apparent Temperature (C)': array([-19.,   5., -12.,  36.,  30.,  33.,  21.,  -1., -15.,  35., -24.,\n",
      "        22.,  28., -27.,   7.,   2., -14.,  13., -25., -26.,   0.,  27.,\n",
      "         1.,  29.,  17.,  31.,  10.,  26.,  -4.,  15.,  37.,  -3.,  11.,\n",
      "         9.,  23., -23.,  34.,   4.,  24.,  -5.,  19.,  20., -16.,  38.,\n",
      "        -7., -22.,  12.,  -6.,  -2.,  18., -11., -20.,  25., -18., -17.,\n",
      "         8., -13.,  14.,  16.,   6.,  -9., -21., -10.,   3.,  nan,  -8.,\n",
      "        32.])}\n",
      "{'Humidity': array([0.13436424, 0.84743374, 0.76377462, ..., 0.49607649, 0.78316099,\n",
      "       0.1915549 ])}\n",
      "{'Wind Speed (km/h)': array([17.,  8., 32., 15., 63., 57., 60., 48., 26., 12., 62.,  3., 49.,\n",
      "       55.,  0., 34., 29., 13., 40.,  2.,  1., 27., 54., 28., 56., 44.,\n",
      "       58., 37., 53., 23., 42., 24., 38., 36., 50.,  4., 61., 31., 51.,\n",
      "       22., 46., 47., 11., 20.,  5., 39., 21., 25., 45., 16.,  7., 52.,\n",
      "        9., 10., 35., 14., 41., 43., 33., 18.,  6., 30., 19., 59., nan])}\n",
      "{'Wind Bearing (degrees)': array([ 68., 291.,  32., 130.,  60., 253., 230., 241., 333., 194., 107.,\n",
      "        48., 249.,  14., 199., 221., 311.,   1., 356., 228., 136., 117.,\n",
      "       302.,  52., 162.,  15.,  11.,  13., 332., 277.,   4., 195., 351.,\n",
      "       110., 216., 270., 113., 224., 283., 119., 176., 118., 346., 112.,\n",
      "       235., 148., 213., 284., 328.,  51.,  95., 322., 151.,  61., 170.,\n",
      "       256., 259., 343.,  97., 155., 145., 300., 255., 258., 201., 301.,\n",
      "        17., 245., 124., 206., 212., 340.,  88., 187., 280., 359., 345.,\n",
      "       191.,  44., 339., 260.,  55.,  83., 266., 189., 250., 240.,  22.,\n",
      "       157., 314., 303., 296., 331.,  87.,  86., 257., 116.,   6., 102.,\n",
      "       276., 207., 263., 295., 180., 137., 337.,   2., 196., 262.,  66.,\n",
      "       265., 287., 105., 218.,  28., 246., 186., 211., 248., 182., 177.,\n",
      "         0., 275., 319., 313., 169., 234., 307., 325.,  90., 281., 299.,\n",
      "        92.,  46., 282.,  16., 344.,  36.,  42.,   8., 231.,   7., 143.,\n",
      "       127.,  56.,  94.,  35.,  85.,  81., 336., 139., 150., 232., 164.,\n",
      "       254., 242.,  58.,  12., 159., 197., 175., 215.,  96., 132., 129.,\n",
      "       261., 310.,  10., 115.,   9., 203.,  74.,  18.,  82., 347., 278.,\n",
      "       355., 264., 114., 268., 202., 294., 323.,  30., 152.,  64., 108.,\n",
      "        24., 156.,  39., 158., 289.,  19., 111., 318., 193.,  50., 293.,\n",
      "        99., 252.,  53., 166., 205., 144.,  80., 167., 288.,  69., 173.,\n",
      "       219., 109.,  49., 273., 272., 120.,  33.,  20.,  43., 188., 174.,\n",
      "       149., 309., 208.,  37.,  75., 292.,  41., 141.,  23., 122.,  59.,\n",
      "       348., 123., 222., 244., 161., 106.,   5., 305., 163., 200., 160.,\n",
      "       204., 233.,  57., 128., 316., 352., 338.,  93., 101., 126., 184.,\n",
      "        45., 229., 329.,  21., 125., 171.,  47.,  38., 183.,  78.,  91.,\n",
      "        76.,  72.,  54., 308., 279., 353., 153., 341., 349., 220., 330.,\n",
      "        31., 354., 181.,  70.,   3., 327., 172., 286., 312., 334., 140.,\n",
      "       104., 190.,  84., 237., 304.,  63.,  79.,  26., 326., 178., 321.,\n",
      "        71., 315., 358., 227., 209., 142., 133., 251.,  62., 223., 165.,\n",
      "       226., 179., 285., 306., 236., 317., 342., 271., 269.,  34., 324.,\n",
      "       138., 135., 210., 350.,  77., 239., 121., 357., 267.,  25., 247.,\n",
      "       168., 320., 297., 134., 225.,  40., 147., 100., 198.,  29., 274.,\n",
      "        98.,  89., 217.,  27.,  65., 154., 185., 131., 103.,  67., 214.,\n",
      "       290.,  73., 243., 335., 192., 298., 238., 146.,  nan])}\n",
      "{'Visibility (km)': array([ 4.,  2.,  8.,  3., 15., 14., 12.,  6.,  0., 13.,  7., 10., 16.,\n",
      "       11.,  9.,  5.,  1., nan])}\n",
      "{'Pressure (millibars)': array([1008., 1036., 1004., 1016., 1007., 1031., 1028., 1030., 1041.,\n",
      "       1024., 1013., 1006.,   nan, 1027., 1038., 1000., 1044., 1017.,\n",
      "       1046., 1014., 1037., 1020., 1001., 1034., 1043., 1033., 1035.,\n",
      "       1022., 1029., 1018., 1026., 1011., 1040., 1021., 1045., 1032.,\n",
      "       1042., 1012., 1019., 1025., 1002., 1015., 1023., 1005., 1010.,\n",
      "       1039., 1003., 1009.])}\n"
     ]
    }
   ],
   "source": [
    "for i in training_data.columns:\n",
    "    print({i:training_data[i].unique()})"
   ]
  },
  {
   "cell_type": "code",
   "execution_count": 63,
   "metadata": {},
   "outputs": [],
   "source": [
    "training_data[\"Temperature (C)\"]=pd.to_numeric(training_data[\"Temperature (C)\"], errors=\"coerce\")"
   ]
  },
  {
   "cell_type": "code",
   "execution_count": 64,
   "metadata": {},
   "outputs": [
    {
     "data": {
      "text/plain": [
       "Day                           int64\n",
       "Cloud_Condition              object\n",
       "Rain_OR_SNOW                 object\n",
       "Temperature (C)             float64\n",
       "Apparent Temperature (C)    float64\n",
       "Humidity                    float64\n",
       "Wind Speed (km/h)           float64\n",
       "Wind Bearing (degrees)      float64\n",
       "Visibility (km)             float64\n",
       "Pressure (millibars)        float64\n",
       "dtype: object"
      ]
     },
     "execution_count": 64,
     "metadata": {},
     "output_type": "execute_result"
    }
   ],
   "source": [
    "training_data.dtypes"
   ]
  },
  {
   "cell_type": "code",
   "execution_count": 65,
   "metadata": {},
   "outputs": [
    {
     "data": {
      "text/plain": [
       "Day                           0\n",
       "Cloud_Condition               0\n",
       "Rain_OR_SNOW                115\n",
       "Temperature (C)             253\n",
       "Apparent Temperature (C)      3\n",
       "Humidity                      1\n",
       "Wind Speed (km/h)             2\n",
       "Wind Bearing (degrees)       37\n",
       "Visibility (km)              20\n",
       "Pressure (millibars)         65\n",
       "dtype: int64"
      ]
     },
     "execution_count": 65,
     "metadata": {},
     "output_type": "execute_result"
    }
   ],
   "source": [
    "#checking missing values\n",
    "training_data.isnull().sum()"
   ]
  },
  {
   "cell_type": "code",
   "execution_count": 66,
   "metadata": {},
   "outputs": [],
   "source": [
    "#replacing the missing value with mode values\n",
    "for value in ['Rain_OR_SNOW']:\n",
    "   training_data[value].fillna(training_data[value].mode()[0],inplace=True)\n",
    "  "
   ]
  },
  {
   "cell_type": "code",
   "execution_count": 67,
   "metadata": {},
   "outputs": [],
   "source": [
    "#imputing numerical missing data with mean value\n",
    "training_data[\"Temperature (C)\"].fillna(int(training_data[\"Temperature (C)\"].mean()),inplace=True)\n",
    "training_data[\"Apparent Temperature (C)\"].fillna(int(training_data[\"Apparent Temperature (C)\"].mean()),inplace=True)\n",
    "training_data[\"Humidity\"].fillna(int(training_data[\"Humidity\"].mean()),inplace=True)\n",
    "training_data[\"Wind Speed (km/h)\"].fillna(int(training_data[\"Wind Speed (km/h)\"].mean()),inplace=True)\n",
    "training_data[\"Wind Bearing (degrees)\"].fillna(int(training_data[\"Wind Bearing (degrees)\"].mean()),inplace=True)\n",
    "training_data[\"Visibility (km)\"].fillna(int(training_data[\"Visibility (km)\"].mean()),inplace=True)\n",
    "training_data[\"Pressure (millibars)\"].fillna(int(training_data[\"Pressure (millibars)\"].mean()),inplace=True)"
   ]
  },
  {
   "cell_type": "code",
   "execution_count": 68,
   "metadata": {},
   "outputs": [
    {
     "data": {
      "text/plain": [
       "Index(['Day', 'Cloud_Condition', 'Rain_OR_SNOW', 'Temperature (C)',\n",
       "       'Apparent Temperature (C)', 'Humidity', 'Wind Speed (km/h)',\n",
       "       'Wind Bearing (degrees)', 'Visibility (km)', 'Pressure (millibars)'],\n",
       "      dtype='object')"
      ]
     },
     "execution_count": 68,
     "metadata": {},
     "output_type": "execute_result"
    }
   ],
   "source": [
    "training_data.columns"
   ]
  },
  {
   "cell_type": "code",
   "execution_count": 69,
   "metadata": {},
   "outputs": [
    {
     "data": {
      "text/html": [
       "<div>\n",
       "<style scoped>\n",
       "    .dataframe tbody tr th:only-of-type {\n",
       "        vertical-align: middle;\n",
       "    }\n",
       "\n",
       "    .dataframe tbody tr th {\n",
       "        vertical-align: top;\n",
       "    }\n",
       "\n",
       "    .dataframe thead th {\n",
       "        text-align: right;\n",
       "    }\n",
       "</style>\n",
       "<table border=\"1\" class=\"dataframe\">\n",
       "  <thead>\n",
       "    <tr style=\"text-align: right;\">\n",
       "      <th></th>\n",
       "      <th>Day</th>\n",
       "      <th>Temperature (C)</th>\n",
       "      <th>Apparent Temperature (C)</th>\n",
       "      <th>Humidity</th>\n",
       "      <th>Wind Speed (km/h)</th>\n",
       "      <th>Wind Bearing (degrees)</th>\n",
       "      <th>Visibility (km)</th>\n",
       "      <th>Pressure (millibars)</th>\n",
       "    </tr>\n",
       "  </thead>\n",
       "  <tbody>\n",
       "    <tr>\n",
       "      <th>count</th>\n",
       "      <td>71428.000000</td>\n",
       "      <td>71428.000000</td>\n",
       "      <td>71428.000000</td>\n",
       "      <td>71428.000000</td>\n",
       "      <td>71428.000000</td>\n",
       "      <td>71428.000000</td>\n",
       "      <td>71428.000000</td>\n",
       "      <td>71428.000000</td>\n",
       "    </tr>\n",
       "    <tr>\n",
       "      <th>mean</th>\n",
       "      <td>37170.170451</td>\n",
       "      <td>8.959078</td>\n",
       "      <td>5.550582</td>\n",
       "      <td>0.501013</td>\n",
       "      <td>31.525816</td>\n",
       "      <td>179.221678</td>\n",
       "      <td>8.014602</td>\n",
       "      <td>1022.979714</td>\n",
       "    </tr>\n",
       "    <tr>\n",
       "      <th>std</th>\n",
       "      <td>22250.741209</td>\n",
       "      <td>17.597517</td>\n",
       "      <td>19.093422</td>\n",
       "      <td>0.289435</td>\n",
       "      <td>18.506839</td>\n",
       "      <td>103.702340</td>\n",
       "      <td>4.907206</td>\n",
       "      <td>13.553689</td>\n",
       "    </tr>\n",
       "    <tr>\n",
       "      <th>min</th>\n",
       "      <td>1.000000</td>\n",
       "      <td>-21.000000</td>\n",
       "      <td>-27.000000</td>\n",
       "      <td>0.000000</td>\n",
       "      <td>0.000000</td>\n",
       "      <td>0.000000</td>\n",
       "      <td>0.000000</td>\n",
       "      <td>1000.000000</td>\n",
       "    </tr>\n",
       "    <tr>\n",
       "      <th>25%</th>\n",
       "      <td>18275.750000</td>\n",
       "      <td>-6.000000</td>\n",
       "      <td>-11.000000</td>\n",
       "      <td>0.249224</td>\n",
       "      <td>16.000000</td>\n",
       "      <td>89.000000</td>\n",
       "      <td>4.000000</td>\n",
       "      <td>1011.000000</td>\n",
       "    </tr>\n",
       "    <tr>\n",
       "      <th>50%</th>\n",
       "      <td>36132.500000</td>\n",
       "      <td>9.000000</td>\n",
       "      <td>5.000000</td>\n",
       "      <td>0.501458</td>\n",
       "      <td>31.000000</td>\n",
       "      <td>180.000000</td>\n",
       "      <td>8.000000</td>\n",
       "      <td>1023.000000</td>\n",
       "    </tr>\n",
       "    <tr>\n",
       "      <th>75%</th>\n",
       "      <td>53989.250000</td>\n",
       "      <td>24.000000</td>\n",
       "      <td>22.000000</td>\n",
       "      <td>0.751976</td>\n",
       "      <td>48.000000</td>\n",
       "      <td>269.000000</td>\n",
       "      <td>12.000000</td>\n",
       "      <td>1035.000000</td>\n",
       "    </tr>\n",
       "    <tr>\n",
       "      <th>max</th>\n",
       "      <td>80000.000000</td>\n",
       "      <td>39.000000</td>\n",
       "      <td>38.000000</td>\n",
       "      <td>0.999990</td>\n",
       "      <td>63.000000</td>\n",
       "      <td>359.000000</td>\n",
       "      <td>16.000000</td>\n",
       "      <td>1046.000000</td>\n",
       "    </tr>\n",
       "  </tbody>\n",
       "</table>\n",
       "</div>"
      ],
      "text/plain": [
       "                Day  Temperature (C)  Apparent Temperature (C)      Humidity  \\\n",
       "count  71428.000000     71428.000000              71428.000000  71428.000000   \n",
       "mean   37170.170451         8.959078                  5.550582      0.501013   \n",
       "std    22250.741209        17.597517                 19.093422      0.289435   \n",
       "min        1.000000       -21.000000                -27.000000      0.000000   \n",
       "25%    18275.750000        -6.000000                -11.000000      0.249224   \n",
       "50%    36132.500000         9.000000                  5.000000      0.501458   \n",
       "75%    53989.250000        24.000000                 22.000000      0.751976   \n",
       "max    80000.000000        39.000000                 38.000000      0.999990   \n",
       "\n",
       "       Wind Speed (km/h)  Wind Bearing (degrees)  Visibility (km)  \\\n",
       "count       71428.000000            71428.000000     71428.000000   \n",
       "mean           31.525816              179.221678         8.014602   \n",
       "std            18.506839              103.702340         4.907206   \n",
       "min             0.000000                0.000000         0.000000   \n",
       "25%            16.000000               89.000000         4.000000   \n",
       "50%            31.000000              180.000000         8.000000   \n",
       "75%            48.000000              269.000000        12.000000   \n",
       "max            63.000000              359.000000        16.000000   \n",
       "\n",
       "       Pressure (millibars)  \n",
       "count          71428.000000  \n",
       "mean            1022.979714  \n",
       "std               13.553689  \n",
       "min             1000.000000  \n",
       "25%             1011.000000  \n",
       "50%             1023.000000  \n",
       "75%             1035.000000  \n",
       "max             1046.000000  "
      ]
     },
     "execution_count": 69,
     "metadata": {},
     "output_type": "execute_result"
    }
   ],
   "source": [
    "training_data.describe()"
   ]
  },
  {
   "cell_type": "code",
   "execution_count": 70,
   "metadata": {},
   "outputs": [
    {
     "data": {
      "text/plain": [
       "Day                         0\n",
       "Cloud_Condition             0\n",
       "Rain_OR_SNOW                0\n",
       "Temperature (C)             0\n",
       "Apparent Temperature (C)    0\n",
       "Humidity                    0\n",
       "Wind Speed (km/h)           0\n",
       "Wind Bearing (degrees)      0\n",
       "Visibility (km)             0\n",
       "Pressure (millibars)        0\n",
       "dtype: int64"
      ]
     },
     "execution_count": 70,
     "metadata": {},
     "output_type": "execute_result"
    }
   ],
   "source": [
    "training_data.isnull().sum()"
   ]
  },
  {
   "cell_type": "code",
   "execution_count": 71,
   "metadata": {},
   "outputs": [
    {
     "data": {
      "text/plain": [
       "Day                           int64\n",
       "Cloud_Condition              object\n",
       "Rain_OR_SNOW                 object\n",
       "Temperature (C)             float64\n",
       "Apparent Temperature (C)    float64\n",
       "Humidity                    float64\n",
       "Wind Speed (km/h)           float64\n",
       "Wind Bearing (degrees)      float64\n",
       "Visibility (km)             float64\n",
       "Pressure (millibars)        float64\n",
       "dtype: object"
      ]
     },
     "execution_count": 71,
     "metadata": {},
     "output_type": "execute_result"
    }
   ],
   "source": [
    "training_data.dtypes"
   ]
  },
  {
   "cell_type": "code",
   "execution_count": 72,
   "metadata": {},
   "outputs": [
    {
     "data": {
      "text/plain": [
       "(71428, 10)"
      ]
     },
     "execution_count": 72,
     "metadata": {},
     "output_type": "execute_result"
    }
   ],
   "source": [
    "training_data.shape"
   ]
  },
  {
   "cell_type": "code",
   "execution_count": 73,
   "metadata": {},
   "outputs": [
    {
     "data": {
      "text/plain": [
       "Mostly Cloudy                          22017\n",
       "Partly Cloudy                          17613\n",
       "Overcast                               13612\n",
       "Clear                                   9719\n",
       "Foggy                                   5900\n",
       "Breezy and Dry                           656\n",
       "Breezy and Mostly Cloudy                 473\n",
       "Breezy and Overcast                      454\n",
       "Breezy and Partly Cloudy                 350\n",
       "Light Rain                               214\n",
       "Dry and Partly Cloudy                     86\n",
       "Windy and Partly Cloudy                   63\n",
       "Breezy                                    45\n",
       "Windy and Overcast                        43\n",
       "Breezy and Foggy                          34\n",
       "Dry                                       34\n",
       "Humid and Mostly Cloudy                   32\n",
       "Windy and Mostly Cloudy                   32\n",
       "Humid and Partly Cloudy                   17\n",
       "Dry and Mostly Cloudy                     14\n",
       "Windy                                      5\n",
       "Drizzle                                    5\n",
       "Humid and Overcast                         5\n",
       "Windy and Foggy                            3\n",
       "Dangerously Windy and Partly Cloudy        1\n",
       "Windy and Dry                              1\n",
       "Name: Cloud_Condition, dtype: int64"
      ]
     },
     "execution_count": 73,
     "metadata": {},
     "output_type": "execute_result"
    }
   ],
   "source": [
    "training_data.Cloud_Condition.value_counts()"
   ]
  },
  {
   "cell_type": "code",
   "execution_count": 74,
   "metadata": {},
   "outputs": [
    {
     "data": {
      "text/plain": [
       "['Cloud_Condition', 'Rain_OR_SNOW']"
      ]
     },
     "execution_count": 74,
     "metadata": {},
     "output_type": "execute_result"
    }
   ],
   "source": [
    "colname=[]\n",
    "for x in training_data.columns:\n",
    "    if training_data[x].dtype=='object':\n",
    "        colname.append(x)\n",
    "colname"
   ]
  },
  {
   "cell_type": "code",
   "execution_count": 75,
   "metadata": {},
   "outputs": [],
   "source": [
    "from sklearn import preprocessing\n",
    "le=preprocessing.LabelEncoder()\n",
    "for x in colname:\n",
    "    training_data[x]=le.fit_transform(training_data[x])"
   ]
  },
  {
   "cell_type": "code",
   "execution_count": 76,
   "metadata": {},
   "outputs": [
    {
     "data": {
      "text/plain": [
       "17    22017\n",
       "19    17613\n",
       "18    13612\n",
       "6      9719\n",
       "12     5900\n",
       "1       656\n",
       "3       473\n",
       "4       454\n",
       "5       350\n",
       "16      214\n",
       "11       86\n",
       "25       63\n",
       "0        45\n",
       "24       43\n",
       "9        34\n",
       "2        34\n",
       "13       32\n",
       "23       32\n",
       "15       17\n",
       "10       14\n",
       "14        5\n",
       "8         5\n",
       "20        5\n",
       "22        3\n",
       "7         1\n",
       "21        1\n",
       "Name: Cloud_Condition, dtype: int64"
      ]
     },
     "execution_count": 76,
     "metadata": {},
     "output_type": "execute_result"
    }
   ],
   "source": [
    "training_data.Cloud_Condition.value_counts()"
   ]
  },
  {
   "cell_type": "code",
   "execution_count": 77,
   "metadata": {},
   "outputs": [
    {
     "data": {
      "text/html": [
       "<div>\n",
       "<style scoped>\n",
       "    .dataframe tbody tr th:only-of-type {\n",
       "        vertical-align: middle;\n",
       "    }\n",
       "\n",
       "    .dataframe tbody tr th {\n",
       "        vertical-align: top;\n",
       "    }\n",
       "\n",
       "    .dataframe thead th {\n",
       "        text-align: right;\n",
       "    }\n",
       "</style>\n",
       "<table border=\"1\" class=\"dataframe\">\n",
       "  <thead>\n",
       "    <tr style=\"text-align: right;\">\n",
       "      <th></th>\n",
       "      <th>Day</th>\n",
       "      <th>Cloud_Condition</th>\n",
       "      <th>Rain_OR_SNOW</th>\n",
       "      <th>Temperature (C)</th>\n",
       "      <th>Apparent Temperature (C)</th>\n",
       "      <th>Humidity</th>\n",
       "      <th>Wind Speed (km/h)</th>\n",
       "      <th>Wind Bearing (degrees)</th>\n",
       "      <th>Visibility (km)</th>\n",
       "      <th>Pressure (millibars)</th>\n",
       "    </tr>\n",
       "  </thead>\n",
       "  <tbody>\n",
       "    <tr>\n",
       "      <th>0</th>\n",
       "      <td>1</td>\n",
       "      <td>19</td>\n",
       "      <td>0</td>\n",
       "      <td>-13.0</td>\n",
       "      <td>-19.0</td>\n",
       "      <td>0.134364</td>\n",
       "      <td>17.0</td>\n",
       "      <td>68.0</td>\n",
       "      <td>4.0</td>\n",
       "      <td>1008.0</td>\n",
       "    </tr>\n",
       "    <tr>\n",
       "      <th>1</th>\n",
       "      <td>2</td>\n",
       "      <td>19</td>\n",
       "      <td>0</td>\n",
       "      <td>15.0</td>\n",
       "      <td>5.0</td>\n",
       "      <td>0.847434</td>\n",
       "      <td>8.0</td>\n",
       "      <td>291.0</td>\n",
       "      <td>2.0</td>\n",
       "      <td>1036.0</td>\n",
       "    </tr>\n",
       "    <tr>\n",
       "      <th>2</th>\n",
       "      <td>3</td>\n",
       "      <td>19</td>\n",
       "      <td>0</td>\n",
       "      <td>33.0</td>\n",
       "      <td>-12.0</td>\n",
       "      <td>0.763775</td>\n",
       "      <td>32.0</td>\n",
       "      <td>32.0</td>\n",
       "      <td>8.0</td>\n",
       "      <td>1004.0</td>\n",
       "    </tr>\n",
       "    <tr>\n",
       "      <th>3</th>\n",
       "      <td>4</td>\n",
       "      <td>19</td>\n",
       "      <td>1</td>\n",
       "      <td>30.0</td>\n",
       "      <td>36.0</td>\n",
       "      <td>0.255069</td>\n",
       "      <td>15.0</td>\n",
       "      <td>130.0</td>\n",
       "      <td>3.0</td>\n",
       "      <td>1016.0</td>\n",
       "    </tr>\n",
       "    <tr>\n",
       "      <th>4</th>\n",
       "      <td>5</td>\n",
       "      <td>19</td>\n",
       "      <td>1</td>\n",
       "      <td>27.0</td>\n",
       "      <td>30.0</td>\n",
       "      <td>0.495435</td>\n",
       "      <td>63.0</td>\n",
       "      <td>60.0</td>\n",
       "      <td>15.0</td>\n",
       "      <td>1007.0</td>\n",
       "    </tr>\n",
       "  </tbody>\n",
       "</table>\n",
       "</div>"
      ],
      "text/plain": [
       "   Day  Cloud_Condition  Rain_OR_SNOW  Temperature (C)  \\\n",
       "0    1               19             0            -13.0   \n",
       "1    2               19             0             15.0   \n",
       "2    3               19             0             33.0   \n",
       "3    4               19             1             30.0   \n",
       "4    5               19             1             27.0   \n",
       "\n",
       "   Apparent Temperature (C)  Humidity  Wind Speed (km/h)  \\\n",
       "0                     -19.0  0.134364               17.0   \n",
       "1                       5.0  0.847434                8.0   \n",
       "2                     -12.0  0.763775               32.0   \n",
       "3                      36.0  0.255069               15.0   \n",
       "4                      30.0  0.495435               63.0   \n",
       "\n",
       "   Wind Bearing (degrees)  Visibility (km)  Pressure (millibars)  \n",
       "0                    68.0              4.0                1008.0  \n",
       "1                   291.0              2.0                1036.0  \n",
       "2                    32.0              8.0                1004.0  \n",
       "3                   130.0              3.0                1016.0  \n",
       "4                    60.0             15.0                1007.0  "
      ]
     },
     "execution_count": 77,
     "metadata": {},
     "output_type": "execute_result"
    }
   ],
   "source": [
    "training_data.head()"
   ]
  },
  {
   "cell_type": "code",
   "execution_count": 78,
   "metadata": {},
   "outputs": [
    {
     "data": {
      "text/plain": [
       "Day                           int64\n",
       "Cloud_Condition               int32\n",
       "Rain_OR_SNOW                  int32\n",
       "Temperature (C)             float64\n",
       "Apparent Temperature (C)    float64\n",
       "Humidity                    float64\n",
       "Wind Speed (km/h)           float64\n",
       "Wind Bearing (degrees)      float64\n",
       "Visibility (km)             float64\n",
       "Pressure (millibars)        float64\n",
       "dtype: object"
      ]
     },
     "execution_count": 78,
     "metadata": {},
     "output_type": "execute_result"
    }
   ],
   "source": [
    "training_data.dtypes"
   ]
  },
  {
   "cell_type": "code",
   "execution_count": 79,
   "metadata": {},
   "outputs": [],
   "source": [
    "x_train=training_data.values[:,2:]\n",
    "y_train=training_data.values[:,1]"
   ]
  },
  {
   "cell_type": "code",
   "execution_count": 80,
   "metadata": {},
   "outputs": [
    {
     "name": "stdout",
     "output_type": "stream",
     "text": [
      "[[   0.  -13.  -19. ...   68.    4. 1008.]\n",
      " [   0.   15.    5. ...  291.    2. 1036.]\n",
      " [   0.   33.  -12. ...   32.    8. 1004.]\n",
      " ...\n",
      " [   0.   28.  -22. ...  149.    7. 1032.]\n",
      " [   0.  -16.   -3. ...  266.   11. 1019.]\n",
      " [   0.  -15.    8. ...  154.    6. 1023.]]\n"
     ]
    }
   ],
   "source": [
    "print(x_train)"
   ]
  },
  {
   "cell_type": "code",
   "execution_count": 81,
   "metadata": {},
   "outputs": [
    {
     "name": "stdout",
     "output_type": "stream",
     "text": [
      "[[-0.37961968 -1.24785964 -1.28582265 ... -1.07251636 -0.81810924\n",
      "  -1.10522077]\n",
      " [-0.37961968  0.34328505 -0.02883644 ...  1.07788411 -1.22567602\n",
      "   0.96065191]\n",
      " [-0.37961968  1.36616379 -0.91920167 ... -1.41966621 -0.00297567\n",
      "  -1.40034544]\n",
      " ...\n",
      " [-0.37961968  1.08203081 -1.44294593 ... -0.29142919 -0.20675906\n",
      "   0.66552724]\n",
      " [-0.37961968 -1.41833943 -0.44783184 ...  0.83680783  0.60837451\n",
      "  -0.29362793]\n",
      " [-0.37961968 -1.36151283  0.12828684 ... -0.24321394 -0.41054245\n",
      "   0.00149674]]\n"
     ]
    }
   ],
   "source": [
    "from sklearn.preprocessing import StandardScaler\n",
    "scaler =StandardScaler()\n",
    "scaler.fit(x_train)\n",
    "x_train=scaler.transform(x_train)\n",
    "\n",
    "print(x_train)"
   ]
  },
  {
   "cell_type": "code",
   "execution_count": 82,
   "metadata": {},
   "outputs": [],
   "source": [
    "# Running a basic model\n",
    "from sklearn.model_selection import train_test_split\n",
    "#split the data into test & train\n",
    "x_train,x_test,y_train,y_test=train_test_split(x_train,y_train,test_size=0.2,random_state=10)"
   ]
  },
  {
   "cell_type": "code",
   "execution_count": 83,
   "metadata": {},
   "outputs": [
    {
     "name": "stdout",
     "output_type": "stream",
     "text": [
      "[17. 12. 17. ... 17. 12. 12.]\n"
     ]
    }
   ],
   "source": [
    "#predicting using the Decision_Tree_Classifier\n",
    "from sklearn.tree import DecisionTreeClassifier\n",
    "\n",
    "model_DecisionTree=DecisionTreeClassifier(class_weight=None, criterion='entropy', max_depth=10,\n",
    "            max_features=None, max_leaf_nodes=10, min_samples_leaf=5,\n",
    "            min_samples_split=5, min_weight_fraction_leaf=0.0,\n",
    "            presort=False, random_state=200, splitter='best')\n",
    "\n",
    "\n",
    "#fit the model on the data and predict the values\n",
    "model_DecisionTree.fit(x_train,y_train)\n",
    "Y_pred=model_DecisionTree.predict(x_test)\n",
    "print(Y_pred)\n",
    "#print(list(zip(Y_test,Y_pred)))"
   ]
  },
  {
   "cell_type": "code",
   "execution_count": 84,
   "metadata": {
    "scrolled": false
   },
   "outputs": [
    {
     "name": "stdout",
     "output_type": "stream",
     "text": [
      "[[   0    0    0    0    0    0    0    0    0    1    0    0    0    3\n",
      "     0    0    0    0    0    0    0]\n",
      " [   0    0    0    0    0    0    0    0    0   10    0    0    0  131\n",
      "     0    0    0    0    0    0    0]\n",
      " [   0    0    0    0    0    0    0    0    0    2    0    0    0    1\n",
      "     0    0    0    0    0    0    0]\n",
      " [   0    0    0    0    0    0    0    0    0    5    0    0    0  100\n",
      "     0    0    0    0    0    0    0]\n",
      " [   0    0    0    0    0    0    0    0    0    9    0    0    0   67\n",
      "     0    0    0    0    0    0    0]\n",
      " [   0    0    0    0    0    0    0    0    0    1    0    0    0   72\n",
      "     0    0    0    0    0    0    0]\n",
      " [   0    0    0    0    0    0    0    0    0  238    0    0    0 1703\n",
      "     0    0    0    0    0    0    0]\n",
      " [   0    0    0    0    0    0    0    0    0    0    0    0    0    5\n",
      "     0    0    0    0    0    0    0]\n",
      " [   0    0    0    0    0    0    0    0    0    0    0    0    0   20\n",
      "     0    0    0    0    0    0    0]\n",
      " [   0    0    0    0    0    0    0    0    0  524    0    0    0  632\n",
      "     0    0    0    0    0    0    0]\n",
      " [   0    0    0    0    0    0    0    0    0    0    0    0    0    9\n",
      "     0    0    0    0    0    0    0]\n",
      " [   0    0    0    0    0    0    0    0    0    0    0    0    0    2\n",
      "     0    0    0    0    0    0    0]\n",
      " [   0    0    0    0    0    0    0    0    0    9    0    0    0   36\n",
      "     0    0    0    0    0    0    0]\n",
      " [   0    0    0    0    0    0    0    0    0  305    0    0    0 4138\n",
      "     0    0    0    0    0    0    0]\n",
      " [   0    0    0    0    0    0    0    0    0  501    0    0    0 2194\n",
      "     0    0    0    0    0    0    0]\n",
      " [   0    0    0    0    0    0    0    0    0  209    0    0    0 3330\n",
      "     0    0    0    0    0    0    0]\n",
      " [   0    0    0    0    0    0    0    0    0    0    0    0    0    2\n",
      "     0    0    0    0    0    0    0]\n",
      " [   0    0    0    0    0    0    0    0    0    0    0    0    0    1\n",
      "     0    0    0    0    0    0    0]\n",
      " [   0    0    0    0    0    0    0    0    0    0    0    0    0    4\n",
      "     0    0    0    0    0    0    0]\n",
      " [   0    0    0    0    0    0    0    0    0    0    0    0    0    6\n",
      "     0    0    0    0    0    0    0]\n",
      " [   0    0    0    0    0    0    0    0    0    0    0    0    0   16\n",
      "     0    0    0    0    0    0    0]]\n",
      "Classification report: \n",
      "              precision    recall  f1-score   support\n",
      "\n",
      "         0.0       0.00      0.00      0.00         4\n",
      "         1.0       0.00      0.00      0.00       141\n",
      "         2.0       0.00      0.00      0.00         3\n",
      "         3.0       0.00      0.00      0.00       105\n",
      "         4.0       0.00      0.00      0.00        76\n",
      "         5.0       0.00      0.00      0.00        73\n",
      "         6.0       0.00      0.00      0.00      1941\n",
      "         9.0       0.00      0.00      0.00         5\n",
      "        11.0       0.00      0.00      0.00        20\n",
      "        12.0       0.29      0.45      0.35      1156\n",
      "        13.0       0.00      0.00      0.00         9\n",
      "        15.0       0.00      0.00      0.00         2\n",
      "        16.0       0.00      0.00      0.00        45\n",
      "        17.0       0.33      0.93      0.49      4443\n",
      "        18.0       0.00      0.00      0.00      2695\n",
      "        19.0       0.00      0.00      0.00      3539\n",
      "        20.0       0.00      0.00      0.00         2\n",
      "        22.0       0.00      0.00      0.00         1\n",
      "        23.0       0.00      0.00      0.00         4\n",
      "        24.0       0.00      0.00      0.00         6\n",
      "        25.0       0.00      0.00      0.00        16\n",
      "\n",
      "    accuracy                           0.33     14286\n",
      "   macro avg       0.03      0.07      0.04     14286\n",
      "weighted avg       0.13      0.33      0.18     14286\n",
      "\n",
      "Accuracy of the model:  0.32633347333053336\n"
     ]
    }
   ],
   "source": [
    "from sklearn.metrics import confusion_matrix, accuracy_score, classification_report\n",
    "\n",
    "cfm=confusion_matrix(y_test,Y_pred)\n",
    "print(cfm)\n",
    "\n",
    "print(\"Classification report: \")\n",
    "\n",
    "print(classification_report(y_test,Y_pred))\n",
    "\n",
    "acc=accuracy_score(y_test,Y_pred)\n",
    "print(\"Accuracy of the model: \",acc)"
   ]
  },
  {
   "cell_type": "code",
   "execution_count": 85,
   "metadata": {},
   "outputs": [
    {
     "data": {
      "text/plain": [
       "0.32566238493577404"
      ]
     },
     "execution_count": 85,
     "metadata": {},
     "output_type": "execute_result"
    }
   ],
   "source": [
    "model_DecisionTree.score(x_train,y_train)"
   ]
  },
  {
   "cell_type": "code",
   "execution_count": 86,
   "metadata": {},
   "outputs": [],
   "source": [
    "#Running ExtraTreesClassifier model\n",
    "#predicting using the Bagging_Classifier\n",
    "from sklearn.ensemble import ExtraTreesClassifier\n",
    "\n",
    "model=ExtraTreesClassifier(n_estimators=110,random_state=200,max_depth=5)\n",
    "#fit the model on the data and predict the values\n",
    "model=model.fit(x_train,y_train)\n",
    "\n",
    "Y_pred=model.predict(x_test)\n"
   ]
  },
  {
   "cell_type": "code",
   "execution_count": 87,
   "metadata": {},
   "outputs": [
    {
     "name": "stdout",
     "output_type": "stream",
     "text": [
      "[[   0    0    0    0    0    0    0    0    0    0    0    0    0    3\n",
      "     1    0    0    0    0    0    0]\n",
      " [   0    0    0    0    0    0    0    0    0    6    0    0    0  131\n",
      "     4    0    0    0    0    0    0]\n",
      " [   0    0    0    0    0    0    0    0    0    0    0    0    0    1\n",
      "     2    0    0    0    0    0    0]\n",
      " [   0    0    0    0    0    0    0    0    0    1    0    0    0  100\n",
      "     4    0    0    0    0    0    0]\n",
      " [   0    0    0    0    0    0    0    0    0    5    0    0    0   67\n",
      "     4    0    0    0    0    0    0]\n",
      " [   0    0    0    0    0    0    0    0    0    0    0    0    0   72\n",
      "     1    0    0    0    0    0    0]\n",
      " [   0    0    0    0    0    0    0    0    0   92    0    0    0 1703\n",
      "   146    0    0    0    0    0    0]\n",
      " [   0    0    0    0    0    0    0    0    0    0    0    0    0    5\n",
      "     0    0    0    0    0    0    0]\n",
      " [   0    0    0    0    0    0    0    0    0    0    0    0    0   20\n",
      "     0    0    0    0    0    0    0]\n",
      " [   0    0    0    0    0    0    0    0    0  188    0    0    0  632\n",
      "   336    0    0    0    0    0    0]\n",
      " [   0    0    0    0    0    0    0    0    0    0    0    0    0    9\n",
      "     0    0    0    0    0    0    0]\n",
      " [   0    0    0    0    0    0    0    0    0    0    0    0    0    2\n",
      "     0    0    0    0    0    0    0]\n",
      " [   0    0    0    0    0    0    0    0    0    1    0    0    0   36\n",
      "     8    0    0    0    0    0    0]\n",
      " [   0    0    0    0    0    0    0    0    0  104    0    0    0 4138\n",
      "   201    0    0    0    0    0    0]\n",
      " [   0    0    0    0    0    0    0    0    0  174    0    0    0 2194\n",
      "   327    0    0    0    0    0    0]\n",
      " [   0    0    0    0    0    0    0    0    0   69    0    0    0 3330\n",
      "   140    0    0    0    0    0    0]\n",
      " [   0    0    0    0    0    0    0    0    0    0    0    0    0    2\n",
      "     0    0    0    0    0    0    0]\n",
      " [   0    0    0    0    0    0    0    0    0    0    0    0    0    1\n",
      "     0    0    0    0    0    0    0]\n",
      " [   0    0    0    0    0    0    0    0    0    0    0    0    0    4\n",
      "     0    0    0    0    0    0    0]\n",
      " [   0    0    0    0    0    0    0    0    0    0    0    0    0    6\n",
      "     0    0    0    0    0    0    0]\n",
      " [   0    0    0    0    0    0    0    0    0    0    0    0    0   16\n",
      "     0    0    0    0    0    0    0]]\n",
      "Classification report: \n",
      "              precision    recall  f1-score   support\n",
      "\n",
      "         0.0       0.00      0.00      0.00         4\n",
      "         1.0       0.00      0.00      0.00       141\n",
      "         2.0       0.00      0.00      0.00         3\n",
      "         3.0       0.00      0.00      0.00       105\n",
      "         4.0       0.00      0.00      0.00        76\n",
      "         5.0       0.00      0.00      0.00        73\n",
      "         6.0       0.00      0.00      0.00      1941\n",
      "         9.0       0.00      0.00      0.00         5\n",
      "        11.0       0.00      0.00      0.00        20\n",
      "        12.0       0.29      0.16      0.21      1156\n",
      "        13.0       0.00      0.00      0.00         9\n",
      "        15.0       0.00      0.00      0.00         2\n",
      "        16.0       0.00      0.00      0.00        45\n",
      "        17.0       0.33      0.93      0.49      4443\n",
      "        18.0       0.28      0.12      0.17      2695\n",
      "        19.0       0.00      0.00      0.00      3539\n",
      "        20.0       0.00      0.00      0.00         2\n",
      "        22.0       0.00      0.00      0.00         1\n",
      "        23.0       0.00      0.00      0.00         4\n",
      "        24.0       0.00      0.00      0.00         6\n",
      "        25.0       0.00      0.00      0.00        16\n",
      "\n",
      "    accuracy                           0.33     14286\n",
      "   macro avg       0.04      0.06      0.04     14286\n",
      "weighted avg       0.18      0.33      0.20     14286\n",
      "\n",
      "Accuracy of the model:  0.32570348593028137\n"
     ]
    }
   ],
   "source": [
    "from sklearn.metrics import confusion_matrix, accuracy_score, classification_report\n",
    "\n",
    "cfm=confusion_matrix(y_test,Y_pred)\n",
    "print(cfm)\n",
    "\n",
    "print(\"Classification report: \")\n",
    "\n",
    "print(classification_report(y_test,Y_pred))\n",
    "\n",
    "acc=accuracy_score(y_test,Y_pred)\n",
    "print(\"Accuracy of the model: \",acc)"
   ]
  },
  {
   "cell_type": "code",
   "execution_count": 88,
   "metadata": {},
   "outputs": [
    {
     "data": {
      "text/plain": [
       "0.3288824332364986"
      ]
     },
     "execution_count": 88,
     "metadata": {},
     "output_type": "execute_result"
    }
   ],
   "source": [
    "model.score(x_train,y_train)\n",
    "\n"
   ]
  },
  {
   "cell_type": "markdown",
   "metadata": {},
   "source": [
    "# Working on Testing Data"
   ]
  },
  {
   "cell_type": "code",
   "execution_count": 89,
   "metadata": {},
   "outputs": [
    {
     "data": {
      "text/html": [
       "<div>\n",
       "<style scoped>\n",
       "    .dataframe tbody tr th:only-of-type {\n",
       "        vertical-align: middle;\n",
       "    }\n",
       "\n",
       "    .dataframe tbody tr th {\n",
       "        vertical-align: top;\n",
       "    }\n",
       "\n",
       "    .dataframe thead th {\n",
       "        text-align: right;\n",
       "    }\n",
       "</style>\n",
       "<table border=\"1\" class=\"dataframe\">\n",
       "  <thead>\n",
       "    <tr style=\"text-align: right;\">\n",
       "      <th></th>\n",
       "      <th>Day</th>\n",
       "      <th>Rain_OR_SNOW</th>\n",
       "      <th>Temperature (C)</th>\n",
       "      <th>Apparent Temperature (C)</th>\n",
       "      <th>Humidity</th>\n",
       "      <th>Wind Speed (km/h)</th>\n",
       "      <th>Wind Bearing (degrees)</th>\n",
       "      <th>Visibility (km)</th>\n",
       "      <th>Pressure (millibars)</th>\n",
       "      <th>Condensation</th>\n",
       "      <th>Solar irradiance intensity</th>\n",
       "    </tr>\n",
       "  </thead>\n",
       "  <tbody>\n",
       "    <tr>\n",
       "      <th>0</th>\n",
       "      <td>80002</td>\n",
       "      <td>rain</td>\n",
       "      <td>1.0</td>\n",
       "      <td>0.0</td>\n",
       "      <td>0.078150</td>\n",
       "      <td>17.0</td>\n",
       "      <td>300</td>\n",
       "      <td>10.0</td>\n",
       "      <td>1029.0</td>\n",
       "      <td>Fog</td>\n",
       "      <td>1399</td>\n",
       "    </tr>\n",
       "    <tr>\n",
       "      <th>1</th>\n",
       "      <td>80003</td>\n",
       "      <td>rain</td>\n",
       "      <td>-3.0</td>\n",
       "      <td>25.0</td>\n",
       "      <td>0.653251</td>\n",
       "      <td>25.0</td>\n",
       "      <td>322</td>\n",
       "      <td>0.0</td>\n",
       "      <td>1009.0</td>\n",
       "      <td>Dry</td>\n",
       "      <td>1468</td>\n",
       "    </tr>\n",
       "    <tr>\n",
       "      <th>2</th>\n",
       "      <td>80004</td>\n",
       "      <td>rain</td>\n",
       "      <td>18.0</td>\n",
       "      <td>17.0</td>\n",
       "      <td>0.930970</td>\n",
       "      <td>37.0</td>\n",
       "      <td>330</td>\n",
       "      <td>12.0</td>\n",
       "      <td>1045.0</td>\n",
       "      <td>Dry</td>\n",
       "      <td>1152</td>\n",
       "    </tr>\n",
       "    <tr>\n",
       "      <th>3</th>\n",
       "      <td>80005</td>\n",
       "      <td>rain</td>\n",
       "      <td>33.0</td>\n",
       "      <td>-12.0</td>\n",
       "      <td>0.778844</td>\n",
       "      <td>50.0</td>\n",
       "      <td>350</td>\n",
       "      <td>3.0</td>\n",
       "      <td>1022.0</td>\n",
       "      <td>Fog</td>\n",
       "      <td>1003</td>\n",
       "    </tr>\n",
       "    <tr>\n",
       "      <th>4</th>\n",
       "      <td>80006</td>\n",
       "      <td>rain</td>\n",
       "      <td>25.0</td>\n",
       "      <td>-19.0</td>\n",
       "      <td>0.491523</td>\n",
       "      <td>62.0</td>\n",
       "      <td>300</td>\n",
       "      <td>12.0</td>\n",
       "      <td>1042.0</td>\n",
       "      <td>Fog</td>\n",
       "      <td>1228</td>\n",
       "    </tr>\n",
       "  </tbody>\n",
       "</table>\n",
       "</div>"
      ],
      "text/plain": [
       "     Day Rain_OR_SNOW  Temperature (C)  Apparent Temperature (C)  Humidity  \\\n",
       "0  80002         rain              1.0                       0.0  0.078150   \n",
       "1  80003         rain             -3.0                      25.0  0.653251   \n",
       "2  80004         rain             18.0                      17.0  0.930970   \n",
       "3  80005         rain             33.0                     -12.0  0.778844   \n",
       "4  80006         rain             25.0                     -19.0  0.491523   \n",
       "\n",
       "   Wind Speed (km/h)  Wind Bearing (degrees)  Visibility (km)  \\\n",
       "0               17.0                     300             10.0   \n",
       "1               25.0                     322              0.0   \n",
       "2               37.0                     330             12.0   \n",
       "3               50.0                     350              3.0   \n",
       "4               62.0                     300             12.0   \n",
       "\n",
       "   Pressure (millibars) Condensation  Solar irradiance intensity  \n",
       "0                1029.0          Fog                        1399  \n",
       "1                1009.0          Dry                        1468  \n",
       "2                1045.0          Dry                        1152  \n",
       "3                1022.0          Fog                        1003  \n",
       "4                1042.0          Fog                        1228  "
      ]
     },
     "execution_count": 89,
     "metadata": {},
     "output_type": "execute_result"
    }
   ],
   "source": [
    "test=pd.read_csv(\"test_CloudCondition.csv\",low_memory=False)\n",
    "test.head()"
   ]
  },
  {
   "cell_type": "code",
   "execution_count": 90,
   "metadata": {},
   "outputs": [
    {
     "data": {
      "text/plain": [
       "(16452, 11)"
      ]
     },
     "execution_count": 90,
     "metadata": {},
     "output_type": "execute_result"
    }
   ],
   "source": [
    "test.shape"
   ]
  },
  {
   "cell_type": "code",
   "execution_count": 91,
   "metadata": {
    "scrolled": true
   },
   "outputs": [
    {
     "data": {
      "text/plain": [
       "Day                           0\n",
       "Rain_OR_SNOW                  0\n",
       "Temperature (C)               0\n",
       "Apparent Temperature (C)      0\n",
       "Humidity                      0\n",
       "Wind Speed (km/h)             0\n",
       "Wind Bearing (degrees)        0\n",
       "Visibility (km)               0\n",
       "Pressure (millibars)          0\n",
       "Condensation                  0\n",
       "Solar irradiance intensity    0\n",
       "dtype: int64"
      ]
     },
     "execution_count": 91,
     "metadata": {},
     "output_type": "execute_result"
    }
   ],
   "source": [
    "test.isnull().sum()"
   ]
  },
  {
   "cell_type": "code",
   "execution_count": 92,
   "metadata": {},
   "outputs": [
    {
     "name": "stdout",
     "output_type": "stream",
     "text": [
      "{'Day': array([80002, 80003, 80004, ..., 96451, 96452, 96453], dtype=int64)}\n",
      "{'Rain_OR_SNOW': array(['rain', 'snow'], dtype=object)}\n",
      "{'Temperature (C)': array([  1.        ,  -3.        ,  18.        ,  33.        ,\n",
      "        25.        ,   8.        ,  17.        ,  13.        ,\n",
      "       -12.        , -14.        ,   4.        ,  -9.        ,\n",
      "        26.        ,  -6.        ,  39.        , -11.        ,\n",
      "        23.        ,  -7.        ,  36.        ,   5.        ,\n",
      "        15.        , -21.        ,   9.        , -20.        ,\n",
      "        -8.        ,   6.        ,   7.        , -17.        ,\n",
      "        -2.        ,  38.        ,  11.        ,  32.        ,\n",
      "        10.        ,  28.        ,  21.        ,  22.        ,\n",
      "       -15.        ,  27.        ,  24.        ,   0.        ,\n",
      "        14.        ,  30.        , -16.        ,  -1.        ,\n",
      "       -19.        ,  37.        ,  16.        ,   3.        ,\n",
      "        35.        , -13.        ,  31.        ,  12.        ,\n",
      "       -10.        ,  -5.        , -18.        ,  19.        ,\n",
      "        29.        ,  34.        ,  -4.        ,   2.        ,\n",
      "        20.        ,  17.26666667,  18.75      ,  19.74444444,\n",
      "        17.61666667,  16.37222222,  16.13888889,  16.18333333,\n",
      "        17.04444444,  17.17777778,  17.2       ,  16.19444444,\n",
      "        17.29444444,  16.20555556,  16.11111111,  15.95      ,\n",
      "        15.36666667,  14.32777778,  13.33333333,  12.87777778,\n",
      "        12.8       ,  12.26666667,  11.95      ,  12.33888889,\n",
      "        12.87222222,  14.86666667,  18.97777778,  20.02222222,\n",
      "        21.03888889,  20.96666667,  22.15555556,  22.2       ,\n",
      "        22.01111111,  19.97222222,  18.80555556,  18.74444444,\n",
      "        18.26111111,  17.19444444,  17.22222222,  17.20555556,\n",
      "        16.70555556,  16.6       ,  17.15555556,  17.81111111,\n",
      "        19.97777778,  22.71111111,  23.88333333,  26.01666667,\n",
      "        27.66111111,  27.65555556,  27.75555556,  28.79444444,\n",
      "        27.76111111,  27.17222222,  23.83888889,  21.00555556,\n",
      "        19.83888889,  18.72777778,  17.66111111,  16.52777778,\n",
      "        16.11666667,  16.15      ,  15.48888889,  16.06666667,\n",
      "        16.73888889,  16.98888889,  18.92777778,  22.72777778,\n",
      "        24.88333333,  27.61111111,  28.76666667,  29.90555556,\n",
      "        30.60555556,  29.95      ,  29.97222222,  28.84444444,\n",
      "        27.8       ,  24.90555556,  22.36666667,  21.01666667,\n",
      "        19.92777778,  18.35      ,  17.75555556,  16.62222222,\n",
      "        16.14444444,  15.59444444,  15.01111111,  15.01666667,\n",
      "        13.87222222,  16.07222222,  19.56111111,  22.13888889,\n",
      "        22.87222222,  27.07222222,  28.86666667,  30.99444444,\n",
      "        30.89444444,  31.08333333,  30.76666667,  28.83888889,\n",
      "        24.58333333,  22.03888889,  21.52222222,  20.43888889])}\n",
      "{'Apparent Temperature (C)': array([  0.        ,  25.        ,  17.        , -12.        ,\n",
      "       -19.        ,  35.        ,   2.        , -20.        ,\n",
      "        37.        , -13.        , -25.        , -22.        ,\n",
      "         3.        ,   9.        ,  -6.        ,  -8.        ,\n",
      "       -11.        ,  36.        ,   7.        ,  23.        ,\n",
      "         5.        ,  33.        , -18.        ,  28.        ,\n",
      "        -5.        ,  -4.        ,   8.        ,  11.        ,\n",
      "        15.        ,  -3.        ,  16.        ,  26.        ,\n",
      "        -1.        ,   6.        ,  13.        , -16.        ,\n",
      "        21.        ,  22.        ,  -2.        ,  18.        ,\n",
      "        38.        ,  31.        ,  34.        ,  29.        ,\n",
      "       -14.        ,  19.        ,  20.        , -10.        ,\n",
      "       -15.        , -17.        , -26.        ,  -7.        ,\n",
      "         4.        , -23.        , -21.        ,  32.        ,\n",
      "        10.        , -24.        ,  -9.        ,  30.        ,\n",
      "        24.        ,  27.        , -27.        ,   1.        ,\n",
      "        12.        ,  14.        ,  18.77777778,  20.37777778,\n",
      "        21.97777778,  23.57777778,  25.17777778,  26.77777778,\n",
      "        28.37777778,  29.97777778,  31.57777778,  33.17777778,\n",
      "        34.77777778,  36.37777778,  37.97777778,  39.57777778,\n",
      "        41.17777778,  15.95      ,  15.36666667,  14.32777778,\n",
      "        13.33333333,  12.87777778,  12.8       ,  12.26666667,\n",
      "        11.95      ,  12.33888889,  12.87222222,  14.86666667,\n",
      "        17.17777778,  18.75      ,  18.97777778,  20.02222222,\n",
      "        21.03888889,  20.96666667,  22.15555556,  22.2       ,\n",
      "        22.01111111,  19.97222222,  18.80555556,  18.74444444,\n",
      "        18.26111111,  17.19444444,  17.22222222,  17.20555556,\n",
      "        17.2       ,  16.70555556,  16.6       ,  17.15555556,\n",
      "        17.81111111,  19.97777778,  22.71111111,  23.88333333,\n",
      "        26.01666667,  27.85      ,  27.61111111,  27.75555556,\n",
      "        28.46111111,  27.42222222,  27.23333333,  23.83888889,\n",
      "        21.00555556,  19.83888889,  18.72777778,  17.66111111,\n",
      "        16.52777778,  16.11666667,  16.15      ,  15.48888889,\n",
      "        16.06666667,  16.73888889,  16.98888889,  17.61666667,\n",
      "        18.92777778,  22.72777778,  24.88333333,  27.65555556,\n",
      "        28.15555556,  29.03333333,  28.93888889,  28.40555556,\n",
      "        28.46666667,  27.6       ,  27.05      ,  24.90555556,\n",
      "        13.87222222,  16.07222222,  19.56111111,  22.13888889,\n",
      "        22.87222222,  27.02222222,  28.21666667,  29.97222222,\n",
      "        31.72777778,  33.48333333,  35.23888889,  36.99444444,\n",
      "        38.75      ,  40.50555556,  42.26111111,  44.01666667,\n",
      "        45.77222222,  47.52777778])}\n",
      "{'Humidity': array([0.07814959, 0.65325097, 0.93097001, ..., 0.48      , 0.56      ,\n",
      "       0.61      ])}\n",
      "{'Wind Speed (km/h)': array([17.    , 25.    , 37.    , 50.    , 62.    , 33.    , 35.    ,\n",
      "        4.    , 41.    , 55.    , 19.    , 43.    , 45.    , 52.    ,\n",
      "       59.    , 42.    , 49.    ,  5.    , 22.    ,  9.    , 29.    ,\n",
      "       47.    ,  2.    ,  8.    , 46.    , 61.    , 13.    , 39.    ,\n",
      "        7.    , 21.    , 14.    ,  3.    , 16.    , 28.    , 56.    ,\n",
      "       27.    , 34.    , 32.    ,  0.    , 51.    , 40.    , 10.    ,\n",
      "       44.    , 63.    , 38.    , 20.    , 53.    , 12.    ,  1.    ,\n",
      "       31.    , 57.    , 24.    , 60.    , 11.    , 15.    , 18.    ,\n",
      "       58.    ,  6.    , 23.    , 26.    , 30.    , 54.    , 48.    ,\n",
      "       36.    ,  1.0143,  4.9588, 22.4273, 30.9764, 22.701 , 17.0821,\n",
      "       20.1733, 16.6152, 12.5419,  8.3398,  9.0965,  9.4185,  9.0804,\n",
      "        9.66  ,  0.5152,  3.2039,  6.5527,  3.4293,  6.6654,  3.6064,\n",
      "        6.5205,  6.3756,  3.542 ,  3.5581,  4.5241, 10.0303,  9.4346,\n",
      "       12.2038, 11.6081, 12.4131, 12.3487, 14.1197, 15.939 ,  9.4024,\n",
      "       10.3684, 11.0124, 10.7709,  8.5813,  9.2897, 13.9104,  6.4078,\n",
      "       10.9158, 11.0768, 10.6421, 14.0231, 14.0714, 13.3147, 11.27  ,\n",
      "       12.9444, 12.1555, 11.431 , 11.1251, 10.4489,  9.499 ,  4.7012,\n",
      "        8.9033, 10.6582,  7.4543,  3.7674,  0.2737,  3.22  ,  0.322 ,\n",
      "        0.3703,  3.0268, 10.626 ,  4.83  ,  3.4454,  7.8085,  3.5742,\n",
      "        3.2683,  7.406 , 13.5884, 15.6975, 19.1268, 21.8155, 12.3648,\n",
      "        5.2808,  3.0751,  3.3327,  3.1556,  2.9624,  3.6547,  3.2844,\n",
      "        2.7048,  4.7495,  2.7853,  3.7191,  7.7763,  6.4239, 12.0106,\n",
      "       13.9265, 15.617 , 14.7798, 15.5043, 13.8943, 14.2163, 10.9963,\n",
      "       10.0947,  8.9838, 10.5294,  5.8765])}\n",
      "{'Wind Bearing (degrees)': array([300, 322, 330, 350, 298,  71, 159, 155,  68, 255, 242,  70,  95,\n",
      "       200, 167, 115, 120, 179,  25, 240, 207, 189, 199,  83, 353, 134,\n",
      "        45, 285, 171, 156, 158, 222,  43,  32, 198, 151, 234,  28, 150,\n",
      "       267,  81, 128, 307, 137, 163,  52,  51,  47, 273, 208, 184, 246,\n",
      "       358, 186, 175,  65,  96, 337, 148,  18, 312,  36, 140,  44, 136,\n",
      "       216, 301, 102,  89, 260, 187, 355,  50, 223, 116,  56,  80, 209,\n",
      "       263,  55,  72,  10, 292, 105, 181, 303,  13,  90,  87, 309, 340,\n",
      "       278, 170, 218, 183, 305, 336, 266,   5,  93,  58, 173, 164,  37,\n",
      "       275, 144, 319,  60, 202, 131,  41, 286, 122,  14, 349,  94,  92,\n",
      "       326, 329, 311, 261,  40, 348, 277,   7, 290, 268, 204, 100, 212,\n",
      "         4, 352, 254, 354, 249, 180, 296, 154,  64, 145, 220,  77,  30,\n",
      "       320, 127, 237, 288,  33, 232,  69, 224, 211, 314,  39, 125, 230,\n",
      "        85, 282, 126, 139, 245, 310, 253, 299, 341, 142, 318,  11,   8,\n",
      "       201, 239, 217,   0, 213, 215, 112, 130, 325, 107, 135,  79, 229,\n",
      "        57,   3, 172, 153, 293,  54, 169, 356, 333, 338, 228, 274, 197,\n",
      "       269, 270, 166,  75, 182, 265, 147, 133, 342,  29, 210, 174, 287,\n",
      "       190, 188, 192, 328, 161, 114,   1, 117, 247, 238, 101,  27,  20,\n",
      "       157, 297, 335, 339, 152, 221,  12, 219, 251, 279, 256, 259, 317,\n",
      "       250, 129, 118, 195,  91,  78, 162, 262, 160, 324, 206, 191, 331,\n",
      "        97,  38, 132,  15, 233, 194, 119,  16, 291, 257,  99,  66, 347,\n",
      "       177, 103, 283,  42, 241, 244,  49, 357, 214,   9,  88, 178, 346,\n",
      "       146, 323, 327, 345, 294, 109, 227,  24, 235, 281, 110, 108, 334,\n",
      "        74, 111, 276, 185, 315, 302,  63, 123, 313,  76, 343, 308, 243,\n",
      "        53,   6, 304,  84,  46, 271,  73, 141,   2,  67,  48, 295, 258,\n",
      "       236, 264,  21, 289,  34, 321,  22,  62, 143, 149, 193, 231, 138,\n",
      "       226, 196, 332, 121, 113, 359, 316,  31, 124, 344, 280, 104, 252,\n",
      "       106, 205, 248,  82, 284,  35, 306, 225, 168,  17,  86,  98,  19,\n",
      "       165, 351, 272, 203,  23, 176,  26,  59,  61], dtype=int64)}\n",
      "{'Visibility (km)': array([10.    ,  0.    , 12.    ,  3.    ,  5.    , 15.    ,  8.    ,\n",
      "       11.    , 14.    ,  7.    ,  9.    ,  2.    ,  6.    ,  4.    ,\n",
      "       13.    , 16.    ,  1.    , 14.9086, 14.0875,  9.8049,  9.8532,\n",
      "       10.2718,  9.9015,  5.2164,  9.982 ,  9.6278,  9.7566, 10.2557,\n",
      "       16.0517, 15.0213, 15.7297, 14.8764,  8.05  , 11.3183, 10.3523,\n",
      "       15.5526, 16.1   , 15.1823, 14.9569, 14.812 , 14.1197, 11.8979,\n",
      "       13.7333, 11.9784, 15.8263, 15.1501, 15.3111, 15.134 , 14.168 ,\n",
      "       15.6492, 15.2628, 15.4399, 15.5204])}\n",
      "{'Pressure (millibars)': array([1029.  , 1009.  , 1045.  , 1022.  , 1042.  , 1028.  , 1026.  ,\n",
      "       1038.  , 1006.  , 1031.  , 1000.  , 1037.  , 1025.  , 1044.  ,\n",
      "       1003.  , 1036.  , 1011.  , 1016.  , 1005.  , 1023.  , 1034.  ,\n",
      "       1032.  , 1008.  , 1040.  , 1030.  , 1010.  , 1021.  , 1013.  ,\n",
      "       1012.  , 1019.  , 1015.  , 1043.  , 1001.  , 1039.  , 1007.  ,\n",
      "       1046.  , 1027.  , 1020.  , 1024.  , 1014.  , 1004.  , 1041.  ,\n",
      "       1033.  , 1035.  , 1002.  , 1017.  , 1018.  , 1011.94, 1011.9 ,\n",
      "       1012.01, 1012.61, 1013.39, 1013.36, 1012.99, 1013.1 , 1013.05,\n",
      "       1013.14, 1013.11, 1013.04, 1013.41, 1013.37, 1013.77, 1013.96,\n",
      "       1013.92, 1014.16, 1014.15, 1014.22, 1014.45, 1014.84, 1015.12,\n",
      "       1015.63, 1016.05, 1016.59, 1017.23, 1017.44, 1017.84, 1018.05,\n",
      "       1018.16, 1018.92, 1019.36, 1019.85, 1020.63, 1021.72, 1021.18,\n",
      "       1021.54, 1021.77, 1021.87, 1021.85, 1021.69, 1021.49, 1021.47,\n",
      "       1021.46, 1021.37, 1021.36, 1021.35, 1021.15, 1020.65, 1020.31,\n",
      "       1019.55, 1019.13, 1018.95, 1019.43, 1019.83, 1019.64, 1019.39,\n",
      "       1019.26, 1019.24, 1019.06, 1018.63, 1018.24, 1017.74, 1017.46,\n",
      "       1017.55, 1017.47, 1017.43, 1017.11, 1016.63, 1016.41, 1015.76,\n",
      "       1015.23, 1014.91, 1014.37, 1014.04, 1014.14, 1014.34, 1014.73,\n",
      "       1014.63, 1014.68, 1014.65, 1014.56, 1014.69, 1014.52, 1014.55,\n",
      "       1014.66, 1015.25, 1015.28, 1015.46, 1015.65, 1015.44, 1015.35,\n",
      "       1014.86, 1014.17, 1013.97, 1013.83, 1014.07, 1014.36, 1015.16,\n",
      "       1015.66, 1015.95, 1016.16])}\n",
      "{'Condensation': array(['Fog', 'Dry', 'Mist', 'Frost'], dtype=object)}\n",
      "{'Solar irradiance intensity': array([1399, 1468, 1152, 1003, 1228, 1067, 1027, 1112, 1459, 1363, 1493,\n",
      "       1040, 1424, 1458, 1486, 1061, 1029, 1150, 1488, 1164, 1193, 1255,\n",
      "       1311, 1220, 1364, 1011, 1376, 1097, 1350, 1472, 1439, 1092, 1464,\n",
      "       1400, 1024, 1475, 1429, 1444, 1013, 1008, 1223, 1305, 1267, 1253,\n",
      "       1246, 1392, 1232, 1186, 1494, 1279, 1391, 1240, 1441, 1129, 1077,\n",
      "       1139, 1485, 1203, 1145, 1396, 1217, 1180, 1463, 1452, 1242, 1188,\n",
      "       1276, 1337, 1274, 1353, 1087, 1096, 1052, 1295, 1471, 1328, 1222,\n",
      "       1026, 1234, 1384, 1272, 1032, 1266, 1343, 1244, 1141, 1409, 1109,\n",
      "       1474, 1317, 1160, 1212, 1170, 1498, 1007, 1190, 1412, 1063, 1047,\n",
      "       1165, 1467, 1072, 1191, 1162, 1104, 1194, 1016, 1434, 1375, 1423,\n",
      "       1324, 1455, 1385, 1225, 1192, 1048, 1218, 1489, 1294, 1346, 1090,\n",
      "       1004, 1197, 1116, 1411, 1259, 1402, 1447, 1254, 1371, 1304, 1309,\n",
      "       1080, 1401, 1171, 1462, 1205, 1443, 1166, 1260, 1465, 1093, 1019,\n",
      "       1303, 1131, 1405, 1033, 1044, 1083, 1461, 1140, 1248, 1110, 1064,\n",
      "       1201, 1059, 1420, 1028, 1230, 1105, 1460, 1395, 1418, 1440, 1469,\n",
      "       1356, 1202, 1046, 1043, 1237, 1457, 1333, 1286, 1407, 1017, 1387,\n",
      "       1113, 1277, 1422, 1241, 1481, 1173, 1367, 1098, 1010, 1365, 1312,\n",
      "       1124, 1239, 1366, 1042, 1430, 1495, 1155, 1263, 1211, 1144, 1041,\n",
      "       1086, 1229, 1417, 1127, 1451, 1196, 1436, 1355, 1216, 1287, 1256,\n",
      "       1245, 1114, 1310, 1262, 1284, 1247, 1078, 1147, 1347, 1426, 1142,\n",
      "       1373, 1379, 1344, 1339, 1102, 1213, 1358, 1158, 1484, 1066, 1101,\n",
      "       1500, 1314, 1329, 1257, 1454, 1111, 1115, 1370, 1002, 1012, 1034,\n",
      "       1300, 1031, 1000, 1250, 1492, 1074, 1168, 1315, 1338, 1490, 1326,\n",
      "       1159, 1243, 1182, 1428, 1073, 1491, 1306, 1414, 1208, 1235, 1496,\n",
      "       1345, 1285, 1477, 1296, 1005, 1036, 1022, 1060, 1135, 1362, 1106,\n",
      "       1215, 1466, 1419, 1009, 1381, 1128, 1435, 1269, 1482, 1301, 1038,\n",
      "       1151, 1167, 1174, 1207, 1146, 1397, 1351, 1251, 1357, 1062, 1133,\n",
      "       1442, 1184, 1100, 1108, 1292, 1271, 1380, 1290, 1432, 1386, 1372,\n",
      "       1199, 1089, 1125, 1181, 1169, 1136, 1382, 1001, 1450, 1132, 1433,\n",
      "       1297, 1137, 1138, 1349, 1394, 1079, 1050, 1153, 1327, 1227, 1342,\n",
      "       1445, 1178, 1283, 1057, 1037, 1298, 1264, 1390, 1335, 1051, 1206,\n",
      "       1299, 1219, 1119, 1325, 1369, 1120, 1252, 1035, 1413, 1123, 1148,\n",
      "       1226, 1316, 1368, 1014, 1056, 1134, 1143, 1185, 1416, 1085, 1081,\n",
      "       1163, 1499, 1354, 1389, 1331, 1404, 1479, 1045, 1200, 1065, 1157,\n",
      "       1198, 1118, 1107, 1224, 1437, 1398, 1070, 1209, 1020, 1069, 1446,\n",
      "       1332, 1053, 1307, 1176, 1448, 1088, 1054, 1322, 1117, 1291, 1425,\n",
      "       1393, 1403, 1249, 1082, 1210, 1341, 1453, 1281, 1018, 1071, 1483,\n",
      "       1177, 1438, 1378, 1122, 1268, 1238, 1126, 1497, 1352, 1025, 1154,\n",
      "       1068, 1189, 1302, 1383, 1275, 1095, 1415, 1323, 1313, 1172, 1049,\n",
      "       1221, 1334, 1099, 1473, 1320, 1130, 1427, 1214, 1470, 1075, 1039,\n",
      "       1280, 1293, 1091, 1431, 1377, 1058, 1406, 1103, 1273, 1015, 1449,\n",
      "       1282, 1233, 1183, 1330, 1421, 1156, 1076, 1055, 1388, 1360, 1195,\n",
      "       1121, 1288, 1476, 1348, 1456, 1359, 1321, 1361, 1261, 1094, 1487,\n",
      "       1236, 1204, 1084, 1410, 1265, 1289, 1006, 1478, 1408, 1021, 1374,\n",
      "       1480, 1161, 1270, 1258, 1318, 1278, 1231, 1336, 1149, 1023, 1308,\n",
      "       1187, 1179, 1030, 1340, 1319, 1175], dtype=int64)}\n"
     ]
    }
   ],
   "source": [
    "for i in test.columns:\n",
    "    print({i:test[i].unique()})"
   ]
  },
  {
   "cell_type": "code",
   "execution_count": 93,
   "metadata": {},
   "outputs": [
    {
     "data": {
      "text/plain": [
       "Day                             int64\n",
       "Rain_OR_SNOW                   object\n",
       "Temperature (C)               float64\n",
       "Apparent Temperature (C)      float64\n",
       "Humidity                      float64\n",
       "Wind Speed (km/h)             float64\n",
       "Wind Bearing (degrees)          int64\n",
       "Visibility (km)               float64\n",
       "Pressure (millibars)          float64\n",
       "Condensation                   object\n",
       "Solar irradiance intensity      int64\n",
       "dtype: object"
      ]
     },
     "execution_count": 93,
     "metadata": {},
     "output_type": "execute_result"
    }
   ],
   "source": [
    "test.dtypes"
   ]
  },
  {
   "cell_type": "code",
   "execution_count": 94,
   "metadata": {},
   "outputs": [],
   "source": [
    "test=test.drop([\"Solar irradiance intensity\",\"Condensation\"],axis=1)"
   ]
  },
  {
   "cell_type": "code",
   "execution_count": 95,
   "metadata": {},
   "outputs": [
    {
     "data": {
      "text/plain": [
       "Index(['Day', 'Rain_OR_SNOW', 'Temperature (C)', 'Apparent Temperature (C)',\n",
       "       'Humidity', 'Wind Speed (km/h)', 'Wind Bearing (degrees)',\n",
       "       'Visibility (km)', 'Pressure (millibars)'],\n",
       "      dtype='object')"
      ]
     },
     "execution_count": 95,
     "metadata": {},
     "output_type": "execute_result"
    }
   ],
   "source": [
    "test.columns"
   ]
  },
  {
   "cell_type": "code",
   "execution_count": 96,
   "metadata": {},
   "outputs": [
    {
     "data": {
      "text/plain": [
       "['Rain_OR_SNOW']"
      ]
     },
     "execution_count": 96,
     "metadata": {},
     "output_type": "execute_result"
    }
   ],
   "source": [
    "colname=[]\n",
    "for x in test.columns:\n",
    "    if test[x].dtype=='object':\n",
    "        colname.append(x)\n",
    "colname"
   ]
  },
  {
   "cell_type": "code",
   "execution_count": 97,
   "metadata": {},
   "outputs": [],
   "source": [
    "from sklearn import preprocessing\n",
    "le=preprocessing.LabelEncoder()\n",
    "for x in colname:\n",
    "    test[x]=le.fit_transform(test[x])"
   ]
  },
  {
   "cell_type": "code",
   "execution_count": 98,
   "metadata": {},
   "outputs": [
    {
     "data": {
      "text/html": [
       "<div>\n",
       "<style scoped>\n",
       "    .dataframe tbody tr th:only-of-type {\n",
       "        vertical-align: middle;\n",
       "    }\n",
       "\n",
       "    .dataframe tbody tr th {\n",
       "        vertical-align: top;\n",
       "    }\n",
       "\n",
       "    .dataframe thead th {\n",
       "        text-align: right;\n",
       "    }\n",
       "</style>\n",
       "<table border=\"1\" class=\"dataframe\">\n",
       "  <thead>\n",
       "    <tr style=\"text-align: right;\">\n",
       "      <th></th>\n",
       "      <th>Day</th>\n",
       "      <th>Rain_OR_SNOW</th>\n",
       "      <th>Temperature (C)</th>\n",
       "      <th>Apparent Temperature (C)</th>\n",
       "      <th>Humidity</th>\n",
       "      <th>Wind Speed (km/h)</th>\n",
       "      <th>Wind Bearing (degrees)</th>\n",
       "      <th>Visibility (km)</th>\n",
       "      <th>Pressure (millibars)</th>\n",
       "    </tr>\n",
       "  </thead>\n",
       "  <tbody>\n",
       "    <tr>\n",
       "      <th>0</th>\n",
       "      <td>80002</td>\n",
       "      <td>0</td>\n",
       "      <td>1.0</td>\n",
       "      <td>0.0</td>\n",
       "      <td>0.078150</td>\n",
       "      <td>17.0</td>\n",
       "      <td>300</td>\n",
       "      <td>10.0</td>\n",
       "      <td>1029.0</td>\n",
       "    </tr>\n",
       "    <tr>\n",
       "      <th>1</th>\n",
       "      <td>80003</td>\n",
       "      <td>0</td>\n",
       "      <td>-3.0</td>\n",
       "      <td>25.0</td>\n",
       "      <td>0.653251</td>\n",
       "      <td>25.0</td>\n",
       "      <td>322</td>\n",
       "      <td>0.0</td>\n",
       "      <td>1009.0</td>\n",
       "    </tr>\n",
       "    <tr>\n",
       "      <th>2</th>\n",
       "      <td>80004</td>\n",
       "      <td>0</td>\n",
       "      <td>18.0</td>\n",
       "      <td>17.0</td>\n",
       "      <td>0.930970</td>\n",
       "      <td>37.0</td>\n",
       "      <td>330</td>\n",
       "      <td>12.0</td>\n",
       "      <td>1045.0</td>\n",
       "    </tr>\n",
       "    <tr>\n",
       "      <th>3</th>\n",
       "      <td>80005</td>\n",
       "      <td>0</td>\n",
       "      <td>33.0</td>\n",
       "      <td>-12.0</td>\n",
       "      <td>0.778844</td>\n",
       "      <td>50.0</td>\n",
       "      <td>350</td>\n",
       "      <td>3.0</td>\n",
       "      <td>1022.0</td>\n",
       "    </tr>\n",
       "    <tr>\n",
       "      <th>4</th>\n",
       "      <td>80006</td>\n",
       "      <td>0</td>\n",
       "      <td>25.0</td>\n",
       "      <td>-19.0</td>\n",
       "      <td>0.491523</td>\n",
       "      <td>62.0</td>\n",
       "      <td>300</td>\n",
       "      <td>12.0</td>\n",
       "      <td>1042.0</td>\n",
       "    </tr>\n",
       "  </tbody>\n",
       "</table>\n",
       "</div>"
      ],
      "text/plain": [
       "     Day  Rain_OR_SNOW  Temperature (C)  Apparent Temperature (C)  Humidity  \\\n",
       "0  80002             0              1.0                       0.0  0.078150   \n",
       "1  80003             0             -3.0                      25.0  0.653251   \n",
       "2  80004             0             18.0                      17.0  0.930970   \n",
       "3  80005             0             33.0                     -12.0  0.778844   \n",
       "4  80006             0             25.0                     -19.0  0.491523   \n",
       "\n",
       "   Wind Speed (km/h)  Wind Bearing (degrees)  Visibility (km)  \\\n",
       "0               17.0                     300             10.0   \n",
       "1               25.0                     322              0.0   \n",
       "2               37.0                     330             12.0   \n",
       "3               50.0                     350              3.0   \n",
       "4               62.0                     300             12.0   \n",
       "\n",
       "   Pressure (millibars)  \n",
       "0                1029.0  \n",
       "1                1009.0  \n",
       "2                1045.0  \n",
       "3                1022.0  \n",
       "4                1042.0  "
      ]
     },
     "execution_count": 98,
     "metadata": {},
     "output_type": "execute_result"
    }
   ],
   "source": [
    "test.head()"
   ]
  },
  {
   "cell_type": "code",
   "execution_count": 99,
   "metadata": {},
   "outputs": [
    {
     "data": {
      "text/plain": [
       "Day                           int64\n",
       "Rain_OR_SNOW                  int32\n",
       "Temperature (C)             float64\n",
       "Apparent Temperature (C)    float64\n",
       "Humidity                    float64\n",
       "Wind Speed (km/h)           float64\n",
       "Wind Bearing (degrees)        int64\n",
       "Visibility (km)             float64\n",
       "Pressure (millibars)        float64\n",
       "dtype: object"
      ]
     },
     "execution_count": 99,
     "metadata": {},
     "output_type": "execute_result"
    }
   ],
   "source": [
    "test.dtypes"
   ]
  },
  {
   "cell_type": "code",
   "execution_count": 100,
   "metadata": {},
   "outputs": [
    {
     "name": "stdout",
     "output_type": "stream",
     "text": [
      "[[ 0.00000000e+00  1.00000000e+00  0.00000000e+00 ...  3.00000000e+02\n",
      "   1.00000000e+01  1.02900000e+03]\n",
      " [ 0.00000000e+00 -3.00000000e+00  2.50000000e+01 ...  3.22000000e+02\n",
      "   0.00000000e+00  1.00900000e+03]\n",
      " [ 0.00000000e+00  1.80000000e+01  1.70000000e+01 ...  3.30000000e+02\n",
      "   1.20000000e+01  1.04500000e+03]\n",
      " ...\n",
      " [ 0.00000000e+00  2.20388889e+01  4.40166667e+01 ...  3.00000000e+01\n",
      "   1.61000000e+01  1.01566000e+03]\n",
      " [ 0.00000000e+00  2.15222222e+01  4.57722222e+01 ...  2.00000000e+01\n",
      "   1.61000000e+01  1.01595000e+03]\n",
      " [ 0.00000000e+00  2.04388889e+01  4.75277778e+01 ...  3.90000000e+01\n",
      "   1.55204000e+01  1.01616000e+03]]\n"
     ]
    }
   ],
   "source": [
    "X_test_new=test.values[:,1:]\n",
    "\n",
    "print(X_test_new)"
   ]
  },
  {
   "cell_type": "code",
   "execution_count": 101,
   "metadata": {},
   "outputs": [
    {
     "name": "stdout",
     "output_type": "stream",
     "text": [
      "[[-0.37961968 -0.45228729 -0.29070857 ...  1.16467157  0.40459112\n",
      "   0.44418374]\n",
      " [-0.37961968 -0.67959368  1.01865208 ...  1.37681871 -1.63324281\n",
      "  -1.0314396 ]\n",
      " [-0.37961968  0.51376484  0.59965667 ...  1.45396312  0.8121579\n",
      "   1.62468241]\n",
      " ...\n",
      " [-0.37961968  0.74328115  2.01463907 ... -1.43895232  1.64766981\n",
      "  -0.54005703]\n",
      " [-0.37961968  0.71392074  2.10658528 ... -1.53538283  1.64766981\n",
      "  -0.51866049]\n",
      " [-0.37961968  0.6523586   2.1985315  ... -1.35216485  1.52955696\n",
      "  -0.50316645]]\n"
     ]
    }
   ],
   "source": [
    "#Scaling the data \n",
    "from sklearn.preprocessing import StandardScaler\n",
    "X_test_new=scaler.transform(X_test_new)\n",
    "print(X_test_new)\n"
   ]
  },
  {
   "cell_type": "code",
   "execution_count": 102,
   "metadata": {},
   "outputs": [
    {
     "name": "stdout",
     "output_type": "stream",
     "text": [
      "[17. 17. 17. ... 17. 17. 17.]\n"
     ]
    }
   ],
   "source": [
    "#  #predicting using the Decision_Tree_Classifier\n",
    "#predicting using the Decision_Tree_Classifier\n",
    "from sklearn.tree import DecisionTreeClassifier\n",
    "\n",
    "model_DecisionTree=DecisionTreeClassifier(class_weight=None, criterion='entropy', max_depth=10,\n",
    "            max_features=None, max_leaf_nodes=10, min_samples_leaf=5,\n",
    "            min_samples_split=5, min_weight_fraction_leaf=0.0,\n",
    "            presort=False, random_state=200, splitter='best')\n",
    "\n",
    "\n",
    "#fit the model on the data and predict the values\n",
    "model_DecisionTree.fit(x_train,y_train)\n",
    "Y_pred=model_DecisionTree.predict(X_test_new)\n",
    "print(Y_pred)\n",
    "# #print(list(zip(X_test_new,Y_pred)))"
   ]
  },
  {
   "cell_type": "code",
   "execution_count": 103,
   "metadata": {},
   "outputs": [
    {
     "name": "stdout",
     "output_type": "stream",
     "text": [
      "[17. 17. 17. ... 17. 17. 17.]\n"
     ]
    }
   ],
   "source": [
    "#predicting using the Bagging_Classifier\n",
    "from sklearn.ensemble import ExtraTreesClassifier\n",
    "\n",
    "model=ExtraTreesClassifier(n_estimators=110,random_state=200,max_depth=5)\n",
    "#fit the model on the data and predict the values\n",
    "model=model.fit(x_train,y_train)\n",
    "\n",
    "Y_pred=model.predict(X_test_new)\n",
    "print(Y_pred)"
   ]
  },
  {
   "cell_type": "code",
   "execution_count": 104,
   "metadata": {},
   "outputs": [
    {
     "data": {
      "text/plain": [
       "0.3288824332364986"
      ]
     },
     "execution_count": 104,
     "metadata": {},
     "output_type": "execute_result"
    }
   ],
   "source": [
    "model.score(x_train,y_train)"
   ]
  },
  {
   "cell_type": "code",
   "execution_count": 105,
   "metadata": {},
   "outputs": [
    {
     "data": {
      "text/html": [
       "<div>\n",
       "<style scoped>\n",
       "    .dataframe tbody tr th:only-of-type {\n",
       "        vertical-align: middle;\n",
       "    }\n",
       "\n",
       "    .dataframe tbody tr th {\n",
       "        vertical-align: top;\n",
       "    }\n",
       "\n",
       "    .dataframe thead th {\n",
       "        text-align: right;\n",
       "    }\n",
       "</style>\n",
       "<table border=\"1\" class=\"dataframe\">\n",
       "  <thead>\n",
       "    <tr style=\"text-align: right;\">\n",
       "      <th></th>\n",
       "      <th>Rain_OR_SNOW</th>\n",
       "      <th>Temperature (C)</th>\n",
       "      <th>Apparent Temperature (C)</th>\n",
       "      <th>Humidity</th>\n",
       "      <th>Wind Speed (km/h)</th>\n",
       "      <th>Wind Bearing (degrees)</th>\n",
       "      <th>Visibility (km)</th>\n",
       "      <th>Pressure (millibars)</th>\n",
       "      <th>Condensation</th>\n",
       "      <th>Solar irradiance intensity</th>\n",
       "      <th>Cloud_Condition</th>\n",
       "    </tr>\n",
       "    <tr>\n",
       "      <th>Day</th>\n",
       "      <th></th>\n",
       "      <th></th>\n",
       "      <th></th>\n",
       "      <th></th>\n",
       "      <th></th>\n",
       "      <th></th>\n",
       "      <th></th>\n",
       "      <th></th>\n",
       "      <th></th>\n",
       "      <th></th>\n",
       "      <th></th>\n",
       "    </tr>\n",
       "  </thead>\n",
       "  <tbody>\n",
       "    <tr>\n",
       "      <th>80002</th>\n",
       "      <td>rain</td>\n",
       "      <td>1.0</td>\n",
       "      <td>0.0</td>\n",
       "      <td>0.078150</td>\n",
       "      <td>17.0</td>\n",
       "      <td>300</td>\n",
       "      <td>10.0</td>\n",
       "      <td>1029.0</td>\n",
       "      <td>Fog</td>\n",
       "      <td>1399</td>\n",
       "      <td>17.0</td>\n",
       "    </tr>\n",
       "    <tr>\n",
       "      <th>80003</th>\n",
       "      <td>rain</td>\n",
       "      <td>-3.0</td>\n",
       "      <td>25.0</td>\n",
       "      <td>0.653251</td>\n",
       "      <td>25.0</td>\n",
       "      <td>322</td>\n",
       "      <td>0.0</td>\n",
       "      <td>1009.0</td>\n",
       "      <td>Dry</td>\n",
       "      <td>1468</td>\n",
       "      <td>17.0</td>\n",
       "    </tr>\n",
       "    <tr>\n",
       "      <th>80004</th>\n",
       "      <td>rain</td>\n",
       "      <td>18.0</td>\n",
       "      <td>17.0</td>\n",
       "      <td>0.930970</td>\n",
       "      <td>37.0</td>\n",
       "      <td>330</td>\n",
       "      <td>12.0</td>\n",
       "      <td>1045.0</td>\n",
       "      <td>Dry</td>\n",
       "      <td>1152</td>\n",
       "      <td>17.0</td>\n",
       "    </tr>\n",
       "    <tr>\n",
       "      <th>80005</th>\n",
       "      <td>rain</td>\n",
       "      <td>33.0</td>\n",
       "      <td>-12.0</td>\n",
       "      <td>0.778844</td>\n",
       "      <td>50.0</td>\n",
       "      <td>350</td>\n",
       "      <td>3.0</td>\n",
       "      <td>1022.0</td>\n",
       "      <td>Fog</td>\n",
       "      <td>1003</td>\n",
       "      <td>17.0</td>\n",
       "    </tr>\n",
       "    <tr>\n",
       "      <th>80006</th>\n",
       "      <td>rain</td>\n",
       "      <td>25.0</td>\n",
       "      <td>-19.0</td>\n",
       "      <td>0.491523</td>\n",
       "      <td>62.0</td>\n",
       "      <td>300</td>\n",
       "      <td>12.0</td>\n",
       "      <td>1042.0</td>\n",
       "      <td>Fog</td>\n",
       "      <td>1228</td>\n",
       "      <td>17.0</td>\n",
       "    </tr>\n",
       "  </tbody>\n",
       "</table>\n",
       "</div>"
      ],
      "text/plain": [
       "      Rain_OR_SNOW  Temperature (C)  Apparent Temperature (C)  Humidity  \\\n",
       "Day                                                                       \n",
       "80002         rain              1.0                       0.0  0.078150   \n",
       "80003         rain             -3.0                      25.0  0.653251   \n",
       "80004         rain             18.0                      17.0  0.930970   \n",
       "80005         rain             33.0                     -12.0  0.778844   \n",
       "80006         rain             25.0                     -19.0  0.491523   \n",
       "\n",
       "       Wind Speed (km/h)  Wind Bearing (degrees)  Visibility (km)  \\\n",
       "Day                                                                 \n",
       "80002               17.0                     300             10.0   \n",
       "80003               25.0                     322              0.0   \n",
       "80004               37.0                     330             12.0   \n",
       "80005               50.0                     350              3.0   \n",
       "80006               62.0                     300             12.0   \n",
       "\n",
       "       Pressure (millibars) Condensation  Solar irradiance intensity  \\\n",
       "Day                                                                    \n",
       "80002                1029.0          Fog                        1399   \n",
       "80003                1009.0          Dry                        1468   \n",
       "80004                1045.0          Dry                        1152   \n",
       "80005                1022.0          Fog                        1003   \n",
       "80006                1042.0          Fog                        1228   \n",
       "\n",
       "       Cloud_Condition  \n",
       "Day                     \n",
       "80002             17.0  \n",
       "80003             17.0  \n",
       "80004             17.0  \n",
       "80005             17.0  \n",
       "80006             17.0  "
      ]
     },
     "execution_count": 105,
     "metadata": {},
     "output_type": "execute_result"
    }
   ],
   "source": [
    "test_CloudCondition = pd.read_csv('test_CloudCondition.csv',header=0,index_col=0)\n",
    "predictions = test_CloudCondition\n",
    "predictions[\"Cloud_Condition\"]=Y_pred\n",
    "predictions.head()"
   ]
  },
  {
   "cell_type": "code",
   "execution_count": 106,
   "metadata": {},
   "outputs": [
    {
     "data": {
      "text/html": [
       "<div>\n",
       "<style scoped>\n",
       "    .dataframe tbody tr th:only-of-type {\n",
       "        vertical-align: middle;\n",
       "    }\n",
       "\n",
       "    .dataframe tbody tr th {\n",
       "        vertical-align: top;\n",
       "    }\n",
       "\n",
       "    .dataframe thead th {\n",
       "        text-align: right;\n",
       "    }\n",
       "</style>\n",
       "<table border=\"1\" class=\"dataframe\">\n",
       "  <thead>\n",
       "    <tr style=\"text-align: right;\">\n",
       "      <th></th>\n",
       "      <th>Rain_OR_SNOW</th>\n",
       "      <th>Temperature (C)</th>\n",
       "      <th>Apparent Temperature (C)</th>\n",
       "      <th>Humidity</th>\n",
       "      <th>Wind Speed (km/h)</th>\n",
       "      <th>Wind Bearing (degrees)</th>\n",
       "      <th>Visibility (km)</th>\n",
       "      <th>Pressure (millibars)</th>\n",
       "      <th>Condensation</th>\n",
       "      <th>Solar irradiance intensity</th>\n",
       "      <th>Cloud_Condition</th>\n",
       "    </tr>\n",
       "    <tr>\n",
       "      <th>Day</th>\n",
       "      <th></th>\n",
       "      <th></th>\n",
       "      <th></th>\n",
       "      <th></th>\n",
       "      <th></th>\n",
       "      <th></th>\n",
       "      <th></th>\n",
       "      <th></th>\n",
       "      <th></th>\n",
       "      <th></th>\n",
       "      <th></th>\n",
       "    </tr>\n",
       "  </thead>\n",
       "  <tbody>\n",
       "    <tr>\n",
       "      <th>80002</th>\n",
       "      <td>rain</td>\n",
       "      <td>1.0</td>\n",
       "      <td>0.0</td>\n",
       "      <td>0.078150</td>\n",
       "      <td>17.0</td>\n",
       "      <td>300</td>\n",
       "      <td>10.0</td>\n",
       "      <td>1029.0</td>\n",
       "      <td>Fog</td>\n",
       "      <td>1399</td>\n",
       "      <td>Mostly Cloudy</td>\n",
       "    </tr>\n",
       "    <tr>\n",
       "      <th>80003</th>\n",
       "      <td>rain</td>\n",
       "      <td>-3.0</td>\n",
       "      <td>25.0</td>\n",
       "      <td>0.653251</td>\n",
       "      <td>25.0</td>\n",
       "      <td>322</td>\n",
       "      <td>0.0</td>\n",
       "      <td>1009.0</td>\n",
       "      <td>Dry</td>\n",
       "      <td>1468</td>\n",
       "      <td>Mostly Cloudy</td>\n",
       "    </tr>\n",
       "    <tr>\n",
       "      <th>80004</th>\n",
       "      <td>rain</td>\n",
       "      <td>18.0</td>\n",
       "      <td>17.0</td>\n",
       "      <td>0.930970</td>\n",
       "      <td>37.0</td>\n",
       "      <td>330</td>\n",
       "      <td>12.0</td>\n",
       "      <td>1045.0</td>\n",
       "      <td>Dry</td>\n",
       "      <td>1152</td>\n",
       "      <td>Mostly Cloudy</td>\n",
       "    </tr>\n",
       "    <tr>\n",
       "      <th>80005</th>\n",
       "      <td>rain</td>\n",
       "      <td>33.0</td>\n",
       "      <td>-12.0</td>\n",
       "      <td>0.778844</td>\n",
       "      <td>50.0</td>\n",
       "      <td>350</td>\n",
       "      <td>3.0</td>\n",
       "      <td>1022.0</td>\n",
       "      <td>Fog</td>\n",
       "      <td>1003</td>\n",
       "      <td>Mostly Cloudy</td>\n",
       "    </tr>\n",
       "    <tr>\n",
       "      <th>80006</th>\n",
       "      <td>rain</td>\n",
       "      <td>25.0</td>\n",
       "      <td>-19.0</td>\n",
       "      <td>0.491523</td>\n",
       "      <td>62.0</td>\n",
       "      <td>300</td>\n",
       "      <td>12.0</td>\n",
       "      <td>1042.0</td>\n",
       "      <td>Fog</td>\n",
       "      <td>1228</td>\n",
       "      <td>Mostly Cloudy</td>\n",
       "    </tr>\n",
       "  </tbody>\n",
       "</table>\n",
       "</div>"
      ],
      "text/plain": [
       "      Rain_OR_SNOW  Temperature (C)  Apparent Temperature (C)  Humidity  \\\n",
       "Day                                                                       \n",
       "80002         rain              1.0                       0.0  0.078150   \n",
       "80003         rain             -3.0                      25.0  0.653251   \n",
       "80004         rain             18.0                      17.0  0.930970   \n",
       "80005         rain             33.0                     -12.0  0.778844   \n",
       "80006         rain             25.0                     -19.0  0.491523   \n",
       "\n",
       "       Wind Speed (km/h)  Wind Bearing (degrees)  Visibility (km)  \\\n",
       "Day                                                                 \n",
       "80002               17.0                     300             10.0   \n",
       "80003               25.0                     322              0.0   \n",
       "80004               37.0                     330             12.0   \n",
       "80005               50.0                     350              3.0   \n",
       "80006               62.0                     300             12.0   \n",
       "\n",
       "       Pressure (millibars) Condensation  Solar irradiance intensity  \\\n",
       "Day                                                                    \n",
       "80002                1029.0          Fog                        1399   \n",
       "80003                1009.0          Dry                        1468   \n",
       "80004                1045.0          Dry                        1152   \n",
       "80005                1022.0          Fog                        1003   \n",
       "80006                1042.0          Fog                        1228   \n",
       "\n",
       "      Cloud_Condition  \n",
       "Day                    \n",
       "80002   Mostly Cloudy  \n",
       "80003   Mostly Cloudy  \n",
       "80004   Mostly Cloudy  \n",
       "80005   Mostly Cloudy  \n",
       "80006   Mostly Cloudy  "
      ]
     },
     "execution_count": 106,
     "metadata": {},
     "output_type": "execute_result"
    }
   ],
   "source": [
    "predictions[\"Cloud_Condition\"]=predictions[\"Cloud_Condition\"].map({25:\"Windy and Partly Cloudy\",24:\"Windy and Overcast\",23:\"Windy and Mostly Cloudy\",22:\"Windy and Foggy\",21:\"Dangerously Windy and Partly Cloudy\",20:\"Humid and Overcast\",19:\"Partly Cloudy\",18:\"Overcast\",17:\"Mostly Cloudy\",16:\"Light Rain\",15:\"Humid and Partly Cloudy\",14:\"Windy\",13:\"Humid and Mostly Cloudy\",12:\"Foggy\",11:\"Dry and Partly Cloudy\",10:\"Dry and Mostly Cloudy\",9:\"Breezy and Foggy\",8:\"Drizzle\",7:\"Windy and Dry\",6:\"Clear\",5:\"Breezy and Partly Cloudy\",4:\"Breezy and Overcast\",3:\"Breezy and Mostly Cloudy\",2:\"Dry\",1:\"Breezy and Dry\",0:\"Breezy\"})\n",
    "predictions.head()"
   ]
  },
  {
   "cell_type": "code",
   "execution_count": 107,
   "metadata": {},
   "outputs": [
    {
     "name": "stdout",
     "output_type": "stream",
     "text": [
      "Day\n",
      "80002    Mostly Cloudy\n",
      "80003    Mostly Cloudy\n",
      "80004    Mostly Cloudy\n",
      "80005    Mostly Cloudy\n",
      "80006    Mostly Cloudy\n",
      "Name: Cloud_Condition, dtype: object\n"
     ]
    }
   ],
   "source": [
    "Cloud_Condition_pred=predictions[\"Cloud_Condition\"]\n",
    "print(Cloud_Condition_pred.head())"
   ]
  },
  {
   "cell_type": "code",
   "execution_count": 108,
   "metadata": {},
   "outputs": [],
   "source": [
    "Cloud_Condition_pred.to_csv(r'Cloud_Condition_V12.csv',header=True)"
   ]
  }
 ],
 "metadata": {
  "kernelspec": {
   "display_name": "Python 3",
   "language": "python",
   "name": "python3"
  },
  "language_info": {
   "codemirror_mode": {
    "name": "ipython",
    "version": 3
   },
   "file_extension": ".py",
   "mimetype": "text/x-python",
   "name": "python",
   "nbconvert_exporter": "python",
   "pygments_lexer": "ipython3",
   "version": "3.8.3"
  },
  "toc": {
   "base_numbering": 1,
   "nav_menu": {},
   "number_sections": true,
   "sideBar": true,
   "skip_h1_title": false,
   "title_cell": "Table of Contents",
   "title_sidebar": "Contents",
   "toc_cell": false,
   "toc_position": {},
   "toc_section_display": true,
   "toc_window_display": false
  }
 },
 "nbformat": 4,
 "nbformat_minor": 4
}
